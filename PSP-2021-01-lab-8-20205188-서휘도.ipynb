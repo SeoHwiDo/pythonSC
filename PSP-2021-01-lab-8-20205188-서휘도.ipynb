{
 "cells": [
  {
   "cell_type": "markdown",
   "metadata": {},
   "source": [
    "<h1 align='center'> 파이썬과학프로그래밍기초 실습 8</h1>\n",
    "\n",
    "<p style=\"text-align: right\"> 2021.5.10.</p>"
   ]
  },
  {
   "cell_type": "markdown",
   "metadata": {},
   "source": [
    "### <div class=\"alert alert-block alert-info\">\n",
    "    \n",
    "- 파일 이름에서 00000000을 자신의 학번으로, name을 자신의 이름으로 수정하세요.\n",
    "\n",
    "- 다음 줄에 자신의 이름, 학번, 학과(전공)을 적으세요.\n",
    "\n",
    "* 이름:   &nbsp;&nbsp;          학번:    &nbsp;&nbsp;         학과(전공):\n",
    "    \n",
    "</div>\n",
    "\n",
    "- Jupyter notebook에 대한 설명은 [The Jupyter Notebook](https://jupyter-notebook.readthedocs.io/en/stable/)을  참고하라\n",
    "\n",
    "- Markdown은 [Markdown Guide](https://www.markdownguide.org/)를 참고하라.\n",
    "- [Markdown Cheat Sheet](https://www.markdownguide.org/cheat-sheet/)\n",
    "\n",
    "* 과제 제출: 5월 14일 (금) 오후 6:00까지 최종본 제출. \n"
   ]
  },
  {
   "cell_type": "markdown",
   "metadata": {},
   "source": [
    "#### 문제 0: 아래 셀에 다음 명령을 실행하라.\n",
    "\n",
    "```\n",
    "import numpy as np\n",
    "import matplotlib.pyplot as plt\n",
    "from scipy import misc\n",
    "import imageio\n",
    "```\n"
   ]
  },
  {
   "cell_type": "code",
   "execution_count": 2,
   "metadata": {},
   "outputs": [],
   "source": [
    "import numpy as np\n",
    "import matplotlib.pyplot as plt\n",
    "from scipy import misc\n",
    "import imageio"
   ]
  },
  {
   "cell_type": "markdown",
   "metadata": {},
   "source": [
    "#### 문제 1.\n",
    "NumPy의 arange와 reshape을 사용하여 다음 ndarray를 만들어라.\n",
    "\n",
    "```\n",
    "array([[[  1,   3,   5,   7,   9],\n",
    "        [ 11,  13,  15,  17,  19],\n",
    "        [ 21,  23,  25,  27,  29],\n",
    "        [ 31,  33,  35,  37,  39]],\n",
    "\n",
    "       [[ 41,  43,  45,  47,  49],\n",
    "        [ 51,  53,  55,  57,  59],\n",
    "        [ 61,  63,  65,  67,  69],\n",
    "        [ 71,  73,  75,  77,  79]],\n",
    "\n",
    "       [[ 81,  83,  85,  87,  89],\n",
    "        [ 91,  93,  95,  97,  99],\n",
    "        [101, 103, 105, 107, 109],\n",
    "        [111, 113, 115, 117, 119]]])\n",
    "```"
   ]
  },
  {
   "cell_type": "code",
   "execution_count": 57,
   "metadata": {
    "scrolled": true
   },
   "outputs": [
    {
     "data": {
      "text/plain": [
       "array([[[  1,   3,   5,   7,   9],\n",
       "        [ 11,  13,  15,  17,  19],\n",
       "        [ 21,  23,  25,  27,  29],\n",
       "        [ 31,  33,  35,  37,  39]],\n",
       "\n",
       "       [[ 41,  43,  45,  47,  49],\n",
       "        [ 51,  53,  55,  57,  59],\n",
       "        [ 61,  63,  65,  67,  69],\n",
       "        [ 71,  73,  75,  77,  79]],\n",
       "\n",
       "       [[ 81,  83,  85,  87,  89],\n",
       "        [ 91,  93,  95,  97,  99],\n",
       "        [101, 103, 105, 107, 109],\n",
       "        [111, 113, 115, 117, 119]]])"
      ]
     },
     "execution_count": 57,
     "metadata": {},
     "output_type": "execute_result"
    }
   ],
   "source": [
    "np.arange(1,120,2).reshape(3,4,5)"
   ]
  },
  {
   "cell_type": "markdown",
   "metadata": {},
   "source": [
    "#### 문제 2.\n",
    "NumPy의 arange와 reshape을 사용하여 다음 ndarray를 만들어라.\n",
    "\n",
    "```\n",
    "array([[[[  1,   2,   3,   4,   5],\n",
    "         [  6,   7,   8,   9,  10]],\n",
    "\n",
    "        [[ 11,  12,  13,  14,  15],\n",
    "         [ 16,  17,  18,  19,  20]],\n",
    "\n",
    "        [[ 21,  22,  23,  24,  25],\n",
    "         [ 26,  27,  28,  29,  30]],\n",
    "\n",
    "        [[ 31,  32,  33,  34,  35],\n",
    "         [ 36,  37,  38,  39,  40]]],\n",
    "\n",
    "\n",
    "       [[[ 41,  42,  43,  44,  45],\n",
    "         [ 46,  47,  48,  49,  50]],\n",
    "\n",
    "        [[ 51,  52,  53,  54,  55],\n",
    "         [ 56,  57,  58,  59,  60]],\n",
    "\n",
    "        [[ 61,  62,  63,  64,  65],\n",
    "         [ 66,  67,  68,  69,  70]],\n",
    "\n",
    "        [[ 71,  72,  73,  74,  75],\n",
    "         [ 76,  77,  78,  79,  80]]],\n",
    "\n",
    "\n",
    "       [[[ 81,  82,  83,  84,  85],\n",
    "         [ 86,  87,  88,  89,  90]],\n",
    "\n",
    "        [[ 91,  92,  93,  94,  95],\n",
    "         [ 96,  97,  98,  99, 100]],\n",
    "\n",
    "        [[101, 102, 103, 104, 105],\n",
    "         [106, 107, 108, 109, 110]],\n",
    "\n",
    "        [[111, 112, 113, 114, 115],\n",
    "         [116, 117, 118, 119, 120]]]])\n",
    "```"
   ]
  },
  {
   "cell_type": "code",
   "execution_count": 58,
   "metadata": {
    "scrolled": false
   },
   "outputs": [
    {
     "data": {
      "text/plain": [
       "array([[[  1,   2,   3,   4,   5],\n",
       "        [  6,   7,   8,   9,  10]],\n",
       "\n",
       "       [[ 11,  12,  13,  14,  15],\n",
       "        [ 16,  17,  18,  19,  20]],\n",
       "\n",
       "       [[ 21,  22,  23,  24,  25],\n",
       "        [ 26,  27,  28,  29,  30]],\n",
       "\n",
       "       [[ 31,  32,  33,  34,  35],\n",
       "        [ 36,  37,  38,  39,  40]],\n",
       "\n",
       "       [[ 41,  42,  43,  44,  45],\n",
       "        [ 46,  47,  48,  49,  50]],\n",
       "\n",
       "       [[ 51,  52,  53,  54,  55],\n",
       "        [ 56,  57,  58,  59,  60]],\n",
       "\n",
       "       [[ 61,  62,  63,  64,  65],\n",
       "        [ 66,  67,  68,  69,  70]],\n",
       "\n",
       "       [[ 71,  72,  73,  74,  75],\n",
       "        [ 76,  77,  78,  79,  80]],\n",
       "\n",
       "       [[ 81,  82,  83,  84,  85],\n",
       "        [ 86,  87,  88,  89,  90]],\n",
       "\n",
       "       [[ 91,  92,  93,  94,  95],\n",
       "        [ 96,  97,  98,  99, 100]],\n",
       "\n",
       "       [[101, 102, 103, 104, 105],\n",
       "        [106, 107, 108, 109, 110]],\n",
       "\n",
       "       [[111, 112, 113, 114, 115],\n",
       "        [116, 117, 118, 119, 120]]])"
      ]
     },
     "execution_count": 58,
     "metadata": {},
     "output_type": "execute_result"
    }
   ],
   "source": [
    "np.arange(1,121).reshape(-1,2,5)\n"
   ]
  },
  {
   "cell_type": "markdown",
   "metadata": {},
   "source": [
    "#### 문제 3.\n",
    "NumPy의 full와 hstack을 사용하여 다음 ndarray를 만들어라.\n",
    "\n",
    "```\n",
    "array([[ 10,  10,  70,  70, 130, 130, 190, 190, 250, 250],\n",
    "       [ 10,  10,  70,  70, 130, 130, 190, 190, 250, 250],\n",
    "       [ 10,  10,  70,  70, 130, 130, 190, 190, 250, 250],\n",
    "       [ 10,  10,  70,  70, 130, 130, 190, 190, 250, 250],\n",
    "       [ 10,  10,  70,  70, 130, 130, 190, 190, 250, 250]], dtype=uint8)\n",
    "```"
   ]
  },
  {
   "cell_type": "code",
   "execution_count": 53,
   "metadata": {},
   "outputs": [
    {
     "data": {
      "text/plain": [
       "array([[ 10,  10,  70,  70, 130, 130, 190, 190, 250, 250],\n",
       "       [ 10,  10,  70,  70, 130, 130, 190, 190, 250, 250],\n",
       "       [ 10,  10,  70,  70, 130, 130, 190, 190, 250, 250],\n",
       "       [ 10,  10,  70,  70, 130, 130, 190, 190, 250, 250],\n",
       "       [ 10,  10,  70,  70, 130, 130, 190, 190, 250, 250]], dtype=uint8)"
      ]
     },
     "execution_count": 53,
     "metadata": {},
     "output_type": "execute_result"
    }
   ],
   "source": [
    "a=np.full((5,2),10,np.uint8)\n",
    "b=np.full((5,2),70,np.uint8)\n",
    "c=np.full((5,2),130,np.uint8)\n",
    "d=np.full((5,2),190,np.uint8)\n",
    "e=np.full((5,2),250,np.uint8)\n",
    "f=np.hstack([a,b,c,d,e])\n",
    "f"
   ]
  },
  {
   "cell_type": "markdown",
   "metadata": {},
   "source": [
    "#### 예제 1. 다음 cell을 실행하라."
   ]
  },
  {
   "cell_type": "code",
   "execution_count": 54,
   "metadata": {},
   "outputs": [
    {
     "data": {
      "image/png": "[encoded data removed]",
      "text/plain": [
       "<Figure size 432x288 with 1 Axes>"
      ]
     },
     "metadata": {
      "needs_background": "light"
     },
     "output_type": "display_data"
    }
   ],
   "source": [
    "plt.imshow(f)\n",
    "plt.show()"
   ]
  },
  {
   "cell_type": "code",
   "execution_count": 55,
   "metadata": {},
   "outputs": [
    {
     "data": {
      "image/png": "[encoded data removed]",
      "text/plain": [
       "<Figure size 432x288 with 1 Axes>"
      ]
     },
     "metadata": {
      "needs_background": "light"
     },
     "output_type": "display_data"
    }
   ],
   "source": [
    "plt.imshow(f, cmap='gray')\n",
    "plt.show()"
   ]
  },
  {
   "cell_type": "markdown",
   "metadata": {},
   "source": [
    "#### 문제 4. \n",
    "###### 4-1. shape이 (10, 8, 3), dtype이 np.uint8이고 모든 원소가 [255, 0, 0]인 3차원 배열 a를 만들어서 imshow() 함수를 이용해서 화면에 표시하라."
   ]
  },
  {
   "cell_type": "code",
   "execution_count": 5,
   "metadata": {},
   "outputs": [
    {
     "data": {
      "image/png": "[encoded data removed]",
      "text/plain": [
       "<Figure size 432x288 with 1 Axes>"
      ]
     },
     "metadata": {
      "needs_background": "light"
     },
     "output_type": "display_data"
    }
   ],
   "source": [
    "a = np.full((10, 8, 3), (255, 0, 0))\n",
    "plt.imshow(a)\n",
    "plt.show()"
   ]
  },
  {
   "cell_type": "markdown",
   "metadata": {},
   "source": [
    "###### 4-2. shape이 (10, 12, 3), dtype이 np.uint8이고 모든 원소가 [0, 255, 0]인 3차원 배열 b를 만들어서 imshow() 함수를 이용해서 화면에 표시하라"
   ]
  },
  {
   "cell_type": "code",
   "execution_count": 7,
   "metadata": {
    "scrolled": true
   },
   "outputs": [
    {
     "data": {
      "image/png": "[encoded data removed]",
      "text/plain": [
       "<Figure size 432x288 with 1 Axes>"
      ]
     },
     "metadata": {
      "needs_background": "light"
     },
     "output_type": "display_data"
    }
   ],
   "source": [
    "b= np.full((10, 12, 3), (0, 255, 0))\n",
    "plt.imshow(b)\n",
    "plt.show()"
   ]
  },
  {
   "cell_type": "markdown",
   "metadata": {},
   "source": [
    "###### 4-3. shape이 (10, 8, 3), dtype이 np.uint8이고 모든 원소가 [0, 0, 255]인 3차원 배열 c를 만들어서 imshow() 함수를 이용해서 화면에 표시하라."
   ]
  },
  {
   "cell_type": "code",
   "execution_count": 8,
   "metadata": {},
   "outputs": [
    {
     "data": {
      "image/png": "[encoded data removed]",
      "text/plain": [
       "<Figure size 432x288 with 1 Axes>"
      ]
     },
     "metadata": {
      "needs_background": "light"
     },
     "output_type": "display_data"
    }
   ],
   "source": [
    "c= np.full((10, 8, 3), (0,0,255))\n",
    "plt.imshow(c)\n",
    "plt.show()"
   ]
  },
  {
   "cell_type": "markdown",
   "metadata": {},
   "source": [
    "###### 4-4. 배열 a, b, c를 수평 방향으로 이어붙인 shape이 (10, 12, 3)인 배열 d를 만들어서 imshow() 함수를 이용해서 화면에 표시하라"
   ]
  },
  {
   "cell_type": "code",
   "execution_count": 1,
   "metadata": {},
   "outputs": [
    {
     "ename": "NameError",
     "evalue": "name 'np' is not defined",
     "output_type": "error",
     "traceback": [
      "\u001b[1;31m---------------------------------------------------------------------------\u001b[0m",
      "\u001b[1;31mNameError\u001b[0m                                 Traceback (most recent call last)",
      "\u001b[1;32m<ipython-input-1-d116507081a7>\u001b[0m in \u001b[0;36m<module>\u001b[1;34m\u001b[0m\n\u001b[1;32m----> 1\u001b[1;33m \u001b[0md\u001b[0m\u001b[1;33m=\u001b[0m\u001b[0mnp\u001b[0m\u001b[1;33m.\u001b[0m\u001b[0mhstack\u001b[0m\u001b[1;33m(\u001b[0m\u001b[1;33m[\u001b[0m\u001b[0ma\u001b[0m\u001b[1;33m,\u001b[0m\u001b[0mb\u001b[0m\u001b[1;33m,\u001b[0m\u001b[0mc\u001b[0m\u001b[1;33m]\u001b[0m\u001b[1;33m)\u001b[0m\u001b[1;33m\u001b[0m\u001b[1;33m\u001b[0m\u001b[0m\n\u001b[0m\u001b[0;32m      2\u001b[0m \u001b[0md\u001b[0m\u001b[1;33m.\u001b[0m\u001b[0mresize\u001b[0m\u001b[1;33m(\u001b[0m\u001b[1;36m10\u001b[0m\u001b[1;33m,\u001b[0m\u001b[1;36m12\u001b[0m\u001b[1;33m,\u001b[0m\u001b[1;36m3\u001b[0m\u001b[1;33m)\u001b[0m\u001b[1;33m\u001b[0m\u001b[1;33m\u001b[0m\u001b[0m\n\u001b[0;32m      3\u001b[0m \u001b[0mplt\u001b[0m\u001b[1;33m.\u001b[0m\u001b[0mimshow\u001b[0m\u001b[1;33m(\u001b[0m\u001b[0md\u001b[0m\u001b[1;33m)\u001b[0m\u001b[1;33m\u001b[0m\u001b[1;33m\u001b[0m\u001b[0m\n\u001b[0;32m      4\u001b[0m \u001b[0mplt\u001b[0m\u001b[1;33m.\u001b[0m\u001b[0mshow\u001b[0m\u001b[1;33m(\u001b[0m\u001b[1;33m)\u001b[0m\u001b[1;33m\u001b[0m\u001b[1;33m\u001b[0m\u001b[0m\n",
      "\u001b[1;31mNameError\u001b[0m: name 'np' is not defined"
     ]
    }
   ],
   "source": [
    "d=np.hstack([a,b,c])\n",
    "d.resize(10,12,3)\n",
    "plt.imshow(d)\n",
    "plt.show()"
   ]
  },
  {
   "cell_type": "markdown",
   "metadata": {},
   "source": [
    "###### 4-5. 다음 cell에서 각 문장이 하는 기능을 설명하라."
   ]
  },
  {
   "cell_type": "code",
   "execution_count": 6,
   "metadata": {},
   "outputs": [
    {
     "data": {
      "image/png": "[encoded data removed]",
      "text/plain": [
       "<Figure size 432x288 with 1 Axes>"
      ]
     },
     "metadata": {
      "needs_background": "light"
     },
     "output_type": "display_data"
    }
   ],
   "source": [
    "x = np.full((10, 20, 3), 0) #shape가 10,20,3인 배열을 모두 0으로 채운후 x에 저장\n",
    "x[:,:8,:] += a #x배열의 axis0의 처음부터 끝,axis1의 처음부터8,axis2의 처음부터 끝을 a배열과 합한다\n",
    "plt.imshow(x) #x배열을 이미지화 한다\n",
    "plt.show()#만들어진 이미지를 보여준다"
   ]
  },
  {
   "cell_type": "code",
   "execution_count": 11,
   "metadata": {},
   "outputs": [
    {
     "data": {
      "image/png": "[encoded data removed]",
      "text/plain": [
       "<Figure size 432x288 with 1 Axes>"
      ]
     },
     "metadata": {
      "needs_background": "light"
     },
     "output_type": "display_data"
    }
   ],
   "source": [
    "x[:,4:16,:] += b #x배열의 axis0의 처음부터 끝,axis1의 4부터16,axis2의 처음부터 끝을 b배열과 합한다\n",
    "plt.imshow(x)#x배열을 이미지화 한다\n",
    "plt.show()#만들어진 이미지를 보여준다"
   ]
  },
  {
   "cell_type": "code",
   "execution_count": 12,
   "metadata": {},
   "outputs": [
    {
     "data": {
      "image/png": "[encoded data removed]",
      "text/plain": [
       "<Figure size 432x288 with 1 Axes>"
      ]
     },
     "metadata": {
      "needs_background": "light"
     },
     "output_type": "display_data"
    }
   ],
   "source": [
    "x[:,12:,:] += c #x배열의 axis0의 처음부터 끝,axis1의 12부터 끝,axis2의 처음부터 끝을 c배열과 합한다\n",
    "plt.imshow(x)#x배열을 이미지화 한다\n",
    "plt.show()#만들어진 이미지를 보여준다"
   ]
  },
  {
   "cell_type": "markdown",
   "metadata": {},
   "source": [
    "#### 문제 5. 다음 조건을 만족하는 영상을 화면에 표시하라.\n",
    "\n",
    "1. 한 변의 길이가 21인 정사각형의 모든 색은 청녹색(cyan)이다.\n",
    "2. 정사각형 내부에 중심의 위치가 (10, 10)이고 반지름이 5인 원의 내부의 모든 색은 노란색(yellow)이다.\n",
    "\n",
    "참고: 중심이 $(x0, y0)$이고 반지름이 $r$인 원 내부는 $(x-x0)^2 + (y-y0)^2 \\le r^2$으로 표현된다."
   ]
  },
  {
   "cell_type": "code",
   "execution_count": 13,
   "metadata": {
    "scrolled": true
   },
   "outputs": [
    {
     "data": {
      "image/png": "[encoded data removed]",
      "text/plain": [
       "<Figure size 432x288 with 1 Axes>"
      ]
     },
     "metadata": {
      "needs_background": "light"
     },
     "output_type": "display_data"
    }
   ],
   "source": [
    "cyan=(0,255,255)\n",
    "yellow=(255,255,0)\n",
    "rect=np.full((21,21,3),cyan,np.uint8)\n",
    "\n",
    "for c in range(21):\n",
    "    for r in range(21):\n",
    "        if (r-10)**2+(c-10)**2<=5**2:\n",
    "            rect[c,r]=yellow\n",
    "plt.imshow(rect)\n",
    "plt.show()\n"
   ]
  },
  {
   "cell_type": "markdown",
   "metadata": {},
   "source": [
    "#### 문제 6. 다음 조건을 만족하는 영상을 화면에 표시하라.\n",
    "\n",
    "1. 한 변의 길이가 121인 정사각형의 모든 색은 청녹색(cyan)이다.\n",
    "2. 정사각형 내부에 중심의 위치가 (60, 60)이고 반지름이 30인 원의 내부의 모든 색은 노란색(yellow)이다."
   ]
  },
  {
   "cell_type": "code",
   "execution_count": 14,
   "metadata": {
    "scrolled": true
   },
   "outputs": [
    {
     "data": {
      "image/png": "[encoded data removed]",
      "text/plain": [
       "<Figure size 432x288 with 1 Axes>"
      ]
     },
     "metadata": {
      "needs_background": "light"
     },
     "output_type": "display_data"
    }
   ],
   "source": [
    "cyan=(0,255,255)\n",
    "yellow=(255,255,0)\n",
    "rect=np.full((122,122,3),cyan,np.uint8)\n",
    "\n",
    "for c in range(122):\n",
    "    for r in range(122):\n",
    "        if (r-60)**2+(c-60)**2<=30**2:\n",
    "            rect[c,r]=yellow\n",
    "plt.imshow(rect)\n",
    "plt.show()\n"
   ]
  },
  {
   "cell_type": "markdown",
   "metadata": {},
   "source": [
    "#### Boolean array indexing"
   ]
  },
  {
   "cell_type": "code",
   "execution_count": null,
   "metadata": {},
   "outputs": [],
   "source": []
  },
  {
   "cell_type": "markdown",
   "metadata": {},
   "source": [
    "#### 문제 7. 문제 5를 boolean array indexing으로 해결하라."
   ]
  },
  {
   "cell_type": "code",
   "execution_count": 15,
   "metadata": {
    "scrolled": true
   },
   "outputs": [
    {
     "data": {
      "text/plain": [
       "[array([[0, 1, 2, 3, 4, 5, 6, 7, 8],\n",
       "        [0, 1, 2, 3, 4, 5, 6, 7, 8],\n",
       "        [0, 1, 2, 3, 4, 5, 6, 7, 8],\n",
       "        [0, 1, 2, 3, 4, 5, 6, 7, 8],\n",
       "        [0, 1, 2, 3, 4, 5, 6, 7, 8],\n",
       "        [0, 1, 2, 3, 4, 5, 6, 7, 8],\n",
       "        [0, 1, 2, 3, 4, 5, 6, 7, 8],\n",
       "        [0, 1, 2, 3, 4, 5, 6, 7, 8],\n",
       "        [0, 1, 2, 3, 4, 5, 6, 7, 8]]),\n",
       " array([[0, 0, 0, 0, 0, 0, 0, 0, 0],\n",
       "        [1, 1, 1, 1, 1, 1, 1, 1, 1],\n",
       "        [2, 2, 2, 2, 2, 2, 2, 2, 2],\n",
       "        [3, 3, 3, 3, 3, 3, 3, 3, 3],\n",
       "        [4, 4, 4, 4, 4, 4, 4, 4, 4],\n",
       "        [5, 5, 5, 5, 5, 5, 5, 5, 5],\n",
       "        [6, 6, 6, 6, 6, 6, 6, 6, 6],\n",
       "        [7, 7, 7, 7, 7, 7, 7, 7, 7],\n",
       "        [8, 8, 8, 8, 8, 8, 8, 8, 8]])]"
      ]
     },
     "execution_count": 15,
     "metadata": {},
     "output_type": "execute_result"
    }
   ],
   "source": [
    "index_2d = np.meshgrid(range(9), range(9))\n",
    "index_2d"
   ]
  },
  {
   "cell_type": "code",
   "execution_count": 16,
   "metadata": {
    "scrolled": true
   },
   "outputs": [
    {
     "data": {
      "text/plain": [
       "array([[[0, 0],\n",
       "        [0, 1],\n",
       "        [0, 2],\n",
       "        [0, 3],\n",
       "        [0, 4],\n",
       "        [0, 5],\n",
       "        [0, 6],\n",
       "        [0, 7],\n",
       "        [0, 8]],\n",
       "\n",
       "       [[1, 0],\n",
       "        [1, 1],\n",
       "        [1, 2],\n",
       "        [1, 3],\n",
       "        [1, 4],\n",
       "        [1, 5],\n",
       "        [1, 6],\n",
       "        [1, 7],\n",
       "        [1, 8]],\n",
       "\n",
       "       [[2, 0],\n",
       "        [2, 1],\n",
       "        [2, 2],\n",
       "        [2, 3],\n",
       "        [2, 4],\n",
       "        [2, 5],\n",
       "        [2, 6],\n",
       "        [2, 7],\n",
       "        [2, 8]],\n",
       "\n",
       "       [[3, 0],\n",
       "        [3, 1],\n",
       "        [3, 2],\n",
       "        [3, 3],\n",
       "        [3, 4],\n",
       "        [3, 5],\n",
       "        [3, 6],\n",
       "        [3, 7],\n",
       "        [3, 8]],\n",
       "\n",
       "       [[4, 0],\n",
       "        [4, 1],\n",
       "        [4, 2],\n",
       "        [4, 3],\n",
       "        [4, 4],\n",
       "        [4, 5],\n",
       "        [4, 6],\n",
       "        [4, 7],\n",
       "        [4, 8]],\n",
       "\n",
       "       [[5, 0],\n",
       "        [5, 1],\n",
       "        [5, 2],\n",
       "        [5, 3],\n",
       "        [5, 4],\n",
       "        [5, 5],\n",
       "        [5, 6],\n",
       "        [5, 7],\n",
       "        [5, 8]],\n",
       "\n",
       "       [[6, 0],\n",
       "        [6, 1],\n",
       "        [6, 2],\n",
       "        [6, 3],\n",
       "        [6, 4],\n",
       "        [6, 5],\n",
       "        [6, 6],\n",
       "        [6, 7],\n",
       "        [6, 8]],\n",
       "\n",
       "       [[7, 0],\n",
       "        [7, 1],\n",
       "        [7, 2],\n",
       "        [7, 3],\n",
       "        [7, 4],\n",
       "        [7, 5],\n",
       "        [7, 6],\n",
       "        [7, 7],\n",
       "        [7, 8]],\n",
       "\n",
       "       [[8, 0],\n",
       "        [8, 1],\n",
       "        [8, 2],\n",
       "        [8, 3],\n",
       "        [8, 4],\n",
       "        [8, 5],\n",
       "        [8, 6],\n",
       "        [8, 7],\n",
       "        [8, 8]]])"
      ]
     },
     "execution_count": 16,
     "metadata": {},
     "output_type": "execute_result"
    }
   ],
   "source": [
    "idx_r = index_2d[0]\n",
    "idx_c = index_2d[1]\n",
    "idx = np.stack((idx_c, idx_r), -1)\n",
    "idx.shape\n",
    "idx"
   ]
  },
  {
   "cell_type": "code",
   "execution_count": 17,
   "metadata": {
    "scrolled": true
   },
   "outputs": [
    {
     "data": {
      "text/plain": [
       "(9, 9, 2)"
      ]
     },
     "execution_count": 17,
     "metadata": {},
     "output_type": "execute_result"
    }
   ],
   "source": [
    "c = np.array((4, 4))\n",
    "np.sum((idx - c)**2,-1)\n",
    "idx.shape\n"
   ]
  },
  {
   "cell_type": "code",
   "execution_count": 18,
   "metadata": {
    "scrolled": true
   },
   "outputs": [
    {
     "data": {
      "text/plain": [
       "array([[[-4, -4],\n",
       "        [-4, -3],\n",
       "        [-4, -2],\n",
       "        [-4, -1],\n",
       "        [-4,  0],\n",
       "        [-4,  1],\n",
       "        [-4,  2],\n",
       "        [-4,  3],\n",
       "        [-4,  4]],\n",
       "\n",
       "       [[-3, -4],\n",
       "        [-3, -3],\n",
       "        [-3, -2],\n",
       "        [-3, -1],\n",
       "        [-3,  0],\n",
       "        [-3,  1],\n",
       "        [-3,  2],\n",
       "        [-3,  3],\n",
       "        [-3,  4]],\n",
       "\n",
       "       [[-2, -4],\n",
       "        [-2, -3],\n",
       "        [-2, -2],\n",
       "        [-2, -1],\n",
       "        [-2,  0],\n",
       "        [-2,  1],\n",
       "        [-2,  2],\n",
       "        [-2,  3],\n",
       "        [-2,  4]],\n",
       "\n",
       "       [[-1, -4],\n",
       "        [-1, -3],\n",
       "        [-1, -2],\n",
       "        [-1, -1],\n",
       "        [-1,  0],\n",
       "        [-1,  1],\n",
       "        [-1,  2],\n",
       "        [-1,  3],\n",
       "        [-1,  4]],\n",
       "\n",
       "       [[ 0, -4],\n",
       "        [ 0, -3],\n",
       "        [ 0, -2],\n",
       "        [ 0, -1],\n",
       "        [ 0,  0],\n",
       "        [ 0,  1],\n",
       "        [ 0,  2],\n",
       "        [ 0,  3],\n",
       "        [ 0,  4]],\n",
       "\n",
       "       [[ 1, -4],\n",
       "        [ 1, -3],\n",
       "        [ 1, -2],\n",
       "        [ 1, -1],\n",
       "        [ 1,  0],\n",
       "        [ 1,  1],\n",
       "        [ 1,  2],\n",
       "        [ 1,  3],\n",
       "        [ 1,  4]],\n",
       "\n",
       "       [[ 2, -4],\n",
       "        [ 2, -3],\n",
       "        [ 2, -2],\n",
       "        [ 2, -1],\n",
       "        [ 2,  0],\n",
       "        [ 2,  1],\n",
       "        [ 2,  2],\n",
       "        [ 2,  3],\n",
       "        [ 2,  4]],\n",
       "\n",
       "       [[ 3, -4],\n",
       "        [ 3, -3],\n",
       "        [ 3, -2],\n",
       "        [ 3, -1],\n",
       "        [ 3,  0],\n",
       "        [ 3,  1],\n",
       "        [ 3,  2],\n",
       "        [ 3,  3],\n",
       "        [ 3,  4]],\n",
       "\n",
       "       [[ 4, -4],\n",
       "        [ 4, -3],\n",
       "        [ 4, -2],\n",
       "        [ 4, -1],\n",
       "        [ 4,  0],\n",
       "        [ 4,  1],\n",
       "        [ 4,  2],\n",
       "        [ 4,  3],\n",
       "        [ 4,  4]]])"
      ]
     },
     "execution_count": 18,
     "metadata": {},
     "output_type": "execute_result"
    }
   ],
   "source": [
    "abs(idx-c) < 2\n",
    "idx-c"
   ]
  },
  {
   "cell_type": "code",
   "execution_count": 19,
   "metadata": {},
   "outputs": [
    {
     "data": {
      "text/plain": [
       "array([10, 10, 10, 10, 10, 20, 20, 20, 20, 20])"
      ]
     },
     "execution_count": 19,
     "metadata": {},
     "output_type": "execute_result"
    }
   ],
   "source": [
    "x=np.full(10,20)\n",
    "idx=np.arange(x.size)\n",
    "idx<5\n",
    "x[idx<5]=10\n",
    "x"
   ]
  },
  {
   "cell_type": "code",
   "execution_count": 20,
   "metadata": {},
   "outputs": [],
   "source": [
    "rows=121\n",
    "cols=121\n",
    "rad=30\n",
    "c=np.array([60,60])\n",
    "cyan=(0,255,255)\n",
    "yellow=(255,255,0)"
   ]
  },
  {
   "cell_type": "code",
   "execution_count": 21,
   "metadata": {
    "scrolled": true
   },
   "outputs": [
    {
     "data": {
      "image/png": "[encoded data removed]",
      "text/plain": [
       "<Figure size 432x288 with 1 Axes>"
      ]
     },
     "metadata": {
      "needs_background": "light"
     },
     "output_type": "display_data"
    }
   ],
   "source": [
    "rect=np.full((rows,cols,3),cyan,np.uint8)\n",
    "idx_r ,idx_c= np.meshgrid(range(rows), range(cols))\n",
    "idx = np.stack((idx_c, idx_r), -1)\n",
    "rect[np.sum((idx - c)**2,-1)<=rad**2]=yellow\n",
    "plt.imshow(rect)\n",
    "plt.show()"
   ]
  },
  {
   "cell_type": "code",
   "execution_count": 22,
   "metadata": {},
   "outputs": [
    {
     "data": {
      "image/png": "[encoded data removed]",
      "text/plain": [
       "<Figure size 432x288 with 1 Axes>"
      ]
     },
     "metadata": {
      "needs_background": "light"
     },
     "output_type": "display_data"
    }
   ],
   "source": [
    "x = np.arange(rows).reshape(-1,1)\n",
    "y = np.arange(cols).reshape(1,-1)\n",
    "rect[(x-60)**2 + (y-60)**2<rad**2]=yellow\n",
    "plt.imshow(rect)\n",
    "plt.show()"
   ]
  }
 ],
 "metadata": {
  "kernelspec": {
   "display_name": "Python 3",
   "language": "python",
   "name": "python3"
  },
  "language_info": {
   "codemirror_mode": {
    "name": "ipython",
    "version": 3
   },
   "file_extension": ".py",
   "mimetype": "text/x-python",
   "name": "python",
   "nbconvert_exporter": "python",
   "pygments_lexer": "ipython3",
   "version": "3.8.5"
  },
  "latex_envs": {
   "LaTeX_envs_menu_present": true,
   "autoclose": false,
   "autocomplete": true,
   "bibliofile": "biblio.bib",
   "cite_by": "apalike",
   "current_citInitial": 1,
   "eqLabelWithNumbers": true,
   "eqNumInitial": 1,
   "hotkeys": {
    "equation": "Ctrl-E",
    "itemize": "Ctrl-I"
   },
   "labels_anchors": false,
   "latex_user_defs": false,
   "report_style_numbering": false,
   "user_envs_cfg": false
  },
  "toc": {
   "base_numbering": 1,
   "nav_menu": {},
   "number_sections": false,
   "sideBar": true,
   "skip_h1_title": false,
   "title_cell": "Table of Contents",
   "title_sidebar": "Contents",
   "toc_cell": false,
   "toc_position": {
    "height": "calc(100% - 180px)",
    "left": "10px",
    "top": "150px",
    "width": "270.5px"
   },
   "toc_section_display": true,
   "toc_window_display": false
  }
 },
 "nbformat": 4,
 "nbformat_minor": 2
}
