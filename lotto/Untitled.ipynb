{
 "cells": [
  {
   "cell_type": "code",
   "execution_count": 71,
   "metadata": {},
   "outputs": [
    {
     "name": "stdout",
     "output_type": "stream",
     "text": [
      "[('43', 174), ('27', 166), ('34', 164), ('17', 162), ('13', 161), ('4', 160)]\n",
      "[('1', 160), ('12', 160), ('33', 159), ('39', 158), ('20', 157), ('10', 156)]\n",
      "[('9', 122), ('22', 124), ('29', 128), ('23', 131), ('41', 132), ('28', 134)]\n",
      "[('32', 134), ('25', 140), ('35', 142), ('30', 144), ('44', 144), ('42', 145)]\n"
     ]
    }
   ],
   "source": [
    "import matplotlib.pyplot as plt\n",
    "import csv\n",
    "num={}\n",
    "keys=['1',\"2\",\"3\",\"4\",\"5\",\"6\",\"보너스\"]\n",
    "with open('lotto.csv', mode='r', encoding='utf-8') as csv_file:\n",
    "    csv_reader = csv.DictReader(csv_file)\n",
    "    for row in csv_reader:\n",
    "        for i in keys:\n",
    "            if row[i] not in num:\n",
    "                num[row[i]]=1\n",
    "            else:\n",
    "                num[row[i]]+=1\n",
    "list = sorted(num.items(), key=lambda x: x[1], reverse=True)\n",
    "li1=[]\n",
    "li2=[]\n",
    "for i in list:\n",
    "    if list.index(i)==12:\n",
    "        break\n",
    "    elif list.index(i)<6:\n",
    "        li1.append(i)\n",
    "    else:\n",
    "        li2.append(i)\n",
    "list = sorted(num.items(), key=lambda x: x[1], reverse=False)\n",
    "\n",
    "li3=[]\n",
    "li4=[]\n",
    "for i in list:\n",
    "    if list.index(i)==12:\n",
    "        break\n",
    "    elif list.index(i)<6:\n",
    "        li3.append(i)\n",
    "    else:\n",
    "        li4.append(i)\n",
    "print(li1)\n",
    "print(li2)\n",
    "print(li3)\n",
    "print(li4)\n"
   ]
  },
  {
   "cell_type": "code",
   "execution_count": null,
   "metadata": {},
   "outputs": [],
   "source": []
  },
  {
   "cell_type": "code",
   "execution_count": null,
   "metadata": {},
   "outputs": [],
   "source": []
  }
 ],
 "metadata": {
  "kernelspec": {
   "display_name": "Python 3",
   "language": "python",
   "name": "python3"
  },
  "language_info": {
   "codemirror_mode": {
    "name": "ipython",
    "version": 3
   },
   "file_extension": ".py",
   "mimetype": "text/x-python",
   "name": "python",
   "nbconvert_exporter": "python",
   "pygments_lexer": "ipython3",
   "version": "3.8.5"
  }
 },
 "nbformat": 4,
 "nbformat_minor": 4
}
