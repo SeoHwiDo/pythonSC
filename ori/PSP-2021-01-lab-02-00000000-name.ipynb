{
 "cells": [
  {
   "cell_type": "markdown",
   "metadata": {},
   "source": [
    "<h1 align='center'> 파이썬과학프로그래밍기초 실습 2</h1>\n",
    "\n",
    "<p style=\"text-align: right\"> 2021.3.17</p>"
   ]
  },
  {
   "cell_type": "markdown",
   "metadata": {},
   "source": [
    "<div class=\"alert alert-block alert-info\">\n",
    "    \n",
    "- 파일 이름에서 00000000을 자신의 학번으로, name을 자신의 이름으로 수정하세요.\n",
    "\n",
    "- 다음 줄에 자신의 이름, 학번, 학과(전공)을 적으세요.\n",
    "\n",
    "* 이름:   &nbsp;&nbsp;          학번:    &nbsp;&nbsp;         학과(전공):\n",
    "    \n",
    "</div>\n",
    "\n",
    "- Jupyter notebook에 대한 설명은 [The Jupyter Notebook](https://jupyter-notebook.readthedocs.io/en/stable/)을  참고하라\n",
    "\n",
    "- Markdown은 [Markdown Guide](https://www.markdownguide.org/)를 참고하라.\n",
    "- [Markdown Cheat Sheet](https://www.markdownguide.org/cheat-sheet/)\n",
    "\n",
    "* 1차 제출: 오후 3:20까지 실습 시간에 마무리한 것을 제출\n",
    "* 2차 마감: 1차 제출시 완성하지 못한 학생들은 3월 19일 (금) 오후 6:00까지 최종본 제출\n"
   ]
  },
  {
   "cell_type": "markdown",
   "metadata": {},
   "source": [
    "## Markdown에서 LaTeX 수식 관련\n",
    "\n",
    "#### 예제 1. 아래 문장을 새로운 셀에 그대로 적어 보라.\n",
    "\n",
    "행렬은 수 또는 다항식들을 직사각형 형태로 배열한 것이다.\n",
    "\n",
    "$$ A = \\begin{bmatrix}\n",
    "            3 & 5 & 7\\\\\n",
    "            1 & 3 & 4\\\\\n",
    "\\end{bmatrix}\n",
    "\\begin{bmatrix} 1 & 2 \\\\ 2 & 3 \\\\ 1 & -1\\end{bmatrix}\n",
    "= \\begin{bmatrix} \n",
    "(3)(1) + (5)(2) + (7)(1) &  (3)(2) + (5)(3) + (7)(-1) \\\\\n",
    "(1)(1) + (3)(2) + (4)(1) &  (1)(2) + (3)(3) + (4)(-1)\n",
    "\\end{bmatrix}\n",
    "= \\begin{bmatrix} \n",
    "20 &  14 \\\\\n",
    "12 &  7\n",
    "\\end{bmatrix}\n",
    "$$"
   ]
  },
  {
   "cell_type": "markdown",
   "metadata": {},
   "source": []
  },
  {
   "cell_type": "markdown",
   "metadata": {},
   "source": [
    "#### 예제 2. while loop의 brake와 continue\n",
    "\n",
    "다음 예제 프로그램을 실행하라"
   ]
  },
  {
   "cell_type": "code",
   "execution_count": null,
   "metadata": {},
   "outputs": [],
   "source": [
    "n=1\n",
    "while (n<7):\n",
    "    if (n%5==0):\n",
    "        break\n",
    "    print(n)\n",
    "    n = n+1"
   ]
  },
  {
   "cell_type": "code",
   "execution_count": null,
   "metadata": {},
   "outputs": [],
   "source": [
    "n=1\n",
    "while (n<7):\n",
    "    if (n%4==0):\n",
    "        n = n + 1\n",
    "        continue\n",
    "    print(n)\n",
    "    n = n+1"
   ]
  },
  {
   "cell_type": "markdown",
   "metadata": {},
   "source": [
    "#### 문제 1. 예제 2에서 break와 continue의 기능을 설명하라."
   ]
  },
  {
   "cell_type": "markdown",
   "metadata": {},
   "source": [
    "**답**:"
   ]
  },
  {
   "cell_type": "markdown",
   "metadata": {},
   "source": [
    "#### 문제 2. 예제 2의 프로그램을 for loop을 이용해서 다시 작성하라."
   ]
  },
  {
   "cell_type": "code",
   "execution_count": null,
   "metadata": {},
   "outputs": [],
   "source": []
  },
  {
   "cell_type": "markdown",
   "metadata": {},
   "source": [
    "#### 예제 3. 다음은 리스트 안의 수를 모두 더하는 프로그램이다. 이를 실행해 보자."
   ]
  },
  {
   "cell_type": "code",
   "execution_count": null,
   "metadata": {},
   "outputs": [],
   "source": [
    "numbers = [1, 5, 3, 6, 8]\n",
    "sum = 0\n",
    "for num in numbers:\n",
    "    sum += num\n",
    "print(f\"리스트의 합은 {sum}이다.\")"
   ]
  },
  {
   "cell_type": "markdown",
   "metadata": {},
   "source": [
    "#### 문제 3. 예제 3의 프로그램을 while loop을 이용해서 다시 작성하라."
   ]
  },
  {
   "cell_type": "code",
   "execution_count": null,
   "metadata": {},
   "outputs": [],
   "source": []
  },
  {
   "cell_type": "markdown",
   "metadata": {},
   "source": [
    "#### 문제 4. 예제 3의 프로그램을 리스트의 모든 수를 곱한 결과를 출력하도록 수정하라."
   ]
  },
  {
   "cell_type": "code",
   "execution_count": null,
   "metadata": {},
   "outputs": [],
   "source": []
  },
  {
   "cell_type": "markdown",
   "metadata": {},
   "source": [
    "#### 문제 5. 예제 3의 프로그램에서 리스트에 숫자가 아닌 객체가 있는 경우를 생각해 보자. 다음 셀의 프로그램은 실행 중에 오류가 발생한다. numbers라는 리스트의 숫자만 더해서 합을 계산하도록 수정하라."
   ]
  },
  {
   "cell_type": "code",
   "execution_count": null,
   "metadata": {},
   "outputs": [],
   "source": [
    "numbers = [1, 5.5, 3.2, 'a', 8]\n",
    "sum = 0\n",
    "for num in numbers:\n",
    "    sum += num\n",
    "print(f\"리스트의 합은 {sum}이다.\")"
   ]
  },
  {
   "cell_type": "code",
   "execution_count": null,
   "metadata": {},
   "outputs": [],
   "source": []
  },
  {
   "cell_type": "markdown",
   "metadata": {},
   "source": [
    "#### 예제 4. 다음 셀을 실행해 보라."
   ]
  },
  {
   "cell_type": "code",
   "execution_count": null,
   "metadata": {},
   "outputs": [],
   "source": [
    "import random\n",
    "for _ in range(10):\n",
    "    print(random.randint(1, 100), end=\", \")"
   ]
  },
  {
   "cell_type": "markdown",
   "metadata": {},
   "source": [
    "#### 문제 6. help(object) 라는 함수는 object에 대한 설명을 출력한다. 아래 셀을 실행해서 random.randint에 대한 설명을 보고 예제 5에 있는 프로그램이 어떤 기능을 하는지 설명하라."
   ]
  },
  {
   "cell_type": "code",
   "execution_count": null,
   "metadata": {},
   "outputs": [],
   "source": [
    "help(random.randint)"
   ]
  },
  {
   "cell_type": "markdown",
   "metadata": {},
   "source": [
    " **답**:"
   ]
  },
  {
   "cell_type": "markdown",
   "metadata": {},
   "source": [
    "#### 문제 7. help(object) 라는 함수는 object에 대한 설명을 출력한다. 아래 셀을 실행해서 random.randint에 대한 설명을 보고 예제 5에 있는 프로그램을 어떤 기능을 하는지 설명하라."
   ]
  },
  {
   "cell_type": "code",
   "execution_count": null,
   "metadata": {},
   "outputs": [],
   "source": [
    "help(random.randint)"
   ]
  },
  {
   "cell_type": "markdown",
   "metadata": {},
   "source": [
    "**답**:"
   ]
  },
  {
   "cell_type": "markdown",
   "metadata": {},
   "source": [
    "#### 문제 8. 다음 프로그램이 무엇을 하는 프로그램인지 설명하라."
   ]
  },
  {
   "cell_type": "code",
   "execution_count": null,
   "metadata": {
    "scrolled": true
   },
   "outputs": [],
   "source": [
    "numbers = []\n",
    "for _ in range(40):\n",
    "    numbers.append(random.randint(1, 80))\n",
    "bumbers =    \n",
    "in_num = int(input(\"1과 50 사이의 정수를 입력하시오: \"))\n",
    "\n",
    "found = False\n",
    "for num in numbers:\n",
    "    if num == in_num:\n",
    "        found = True\n",
    "        break\n",
    "\n",
    "if found:\n",
    "    print(f\"{in_num}는 리스트에 포함되어 있다.\")\n",
    "else:\n",
    "    print(f\"{in_num}는 리스트에 포함되어 있지 않다.\")\n",
    "print(numbers)          "
   ]
  },
  {
   "cell_type": "markdown",
   "metadata": {},
   "source": [
    "#### 예제 5. 문제 8을 다음과 같이 수정할 수 있다. 이 예제의 for-else 구문에서 else의 블록이 언제 실행되는지 설명하라."
   ]
  },
  {
   "cell_type": "code",
   "execution_count": null,
   "metadata": {
    "scrolled": false
   },
   "outputs": [],
   "source": [
    "numbers = []\n",
    "for _ in range(40):\n",
    "    numbers.append(random.randint(1, 80))\n",
    "\n",
    "in_num = int(input(\"1과 50 사이의 정수를 입력하시오: \"))\n",
    "\n",
    "for num in numbers:\n",
    "    if num == in_num:\n",
    "        print(f\"{in_num}는 리스트에 포함되어 있다.\")\n",
    "        break\n",
    "else:\n",
    "    print(f\"{in_num}는 리스트에 포함되어 있지 않다.\")\n",
    "print(numbers)          "
   ]
  },
  {
   "cell_type": "markdown",
   "metadata": {},
   "source": [
    "####  문제 9. 문제 8의 소스를 in 연산자를 사용해서 for loop을 전혀 사용하지 않는 프로그램으로 수정하라."
   ]
  },
  {
   "cell_type": "code",
   "execution_count": null,
   "metadata": {
    "scrolled": true
   },
   "outputs": [],
   "source": [
    "numbers = []\n",
    "for _ in range(40):\n",
    "    numbers.append(random.randint(1, 80))\n",
    "\n",
    "in_num = int(input(\"1과 50 사이의 정수를 입력하시오: \"))\n",
    "\n",
    "       "
   ]
  },
  {
   "cell_type": "markdown",
   "metadata": {},
   "source": [
    "#### 예제 6. 문제 8에서 다른 부분은 그대로 두고  for loop만 while loop으로 수정한 것이다. 프로그램 구조를 살펴보라."
   ]
  },
  {
   "cell_type": "code",
   "execution_count": null,
   "metadata": {
    "scrolled": true
   },
   "outputs": [],
   "source": [
    "numbers = []\n",
    "for _ in range(40):\n",
    "    numbers.append(random.randint(1, 80))\n",
    "\n",
    "in_num = int(input(\"1과 50 사이의 정수를 입력하시오: \"))\n",
    "\n",
    "found = False\n",
    "n = 0\n",
    "while n < len(numbers):\n",
    "    if numbers[n] == in_num:\n",
    "        found = True\n",
    "        break\n",
    "    n += 1\n",
    "if found:\n",
    "    print(f\"{in_num}는 리스트에 포함되어 있다.\")\n",
    "else:\n",
    "    print(f\"{in_num}는 리스트에 포함되어 있지 않다.\")\n",
    "print(numbers)          "
   ]
  },
  {
   "cell_type": "markdown",
   "metadata": {},
   "source": [
    "#### 문제 10. 예제 6에서 while 부분을 whlle-else 구문을 이용해서 수정하라. 참고로 while-else 구문에서 else의 역할은 for-else 구문에서 else 역할과 같다."
   ]
  },
  {
   "cell_type": "code",
   "execution_count": null,
   "metadata": {
    "scrolled": true
   },
   "outputs": [],
   "source": [
    "        "
   ]
  },
  {
   "cell_type": "markdown",
   "metadata": {},
   "source": [
    "#### 문제 11. 키보드로 입력받은 자연수가 소수인지 확인하는 프로그램을 아래 셀에 작성하라. 단, for loop을 사용하라."
   ]
  },
  {
   "cell_type": "code",
   "execution_count": null,
   "metadata": {},
   "outputs": [],
   "source": []
  },
  {
   "cell_type": "markdown",
   "metadata": {},
   "source": [
    "#### 문제 12. 30이하의 자연수 중에 모든 소수를 출력하는 프로그램을 아래 셀에 작성하라. 단, 중첩 (nested) for loop을 사용하되, inner loop에서 for else 문을 사용하라."
   ]
  },
  {
   "cell_type": "code",
   "execution_count": null,
   "metadata": {},
   "outputs": [],
   "source": []
  },
  {
   "cell_type": "markdown",
   "metadata": {},
   "source": [
    "#### 예제 7. 다음 프로그램을 실행해 보라."
   ]
  },
  {
   "cell_type": "code",
   "execution_count": null,
   "metadata": {},
   "outputs": [],
   "source": [
    "s = ''\n",
    "for n in range(10):\n",
    "    s += str(n)\n",
    "print(s)"
   ]
  },
  {
   "cell_type": "code",
   "execution_count": null,
   "metadata": {},
   "outputs": [],
   "source": [
    "s = ''\n",
    "for n in range(10):\n",
    "    s = str(n) + s\n",
    "print(s)"
   ]
  },
  {
   "cell_type": "markdown",
   "metadata": {},
   "source": [
    "#### 문제 13. bin() 함수는 10진수 정수를 입력 받아 '0b'와 이진 문자열을 반환한다. 정수를 입력받아 bin()과 동일한 결과를 화면에 출력하는 프로그램을 작성하라. 단, 이 프로그램에서 구한 결과가 bin() 함수의 결과가 같을 때 결과를 출력해야 한다."
   ]
  },
  {
   "cell_type": "code",
   "execution_count": null,
   "metadata": {},
   "outputs": [],
   "source": [
    "bin(254), bin(-432)"
   ]
  },
  {
   "cell_type": "code",
   "execution_count": null,
   "metadata": {
    "scrolled": true
   },
   "outputs": [],
   "source": []
  }
 ],
 "metadata": {
  "kernelspec": {
   "display_name": "Python 3",
   "language": "python",
   "name": "python3"
  },
  "language_info": {
   "codemirror_mode": {
    "name": "ipython",
    "version": 3
   },
   "file_extension": ".py",
   "mimetype": "text/x-python",
   "name": "python",
   "nbconvert_exporter": "python",
   "pygments_lexer": "ipython3",
   "version": "3.8.5"
  },
  "latex_envs": {
   "LaTeX_envs_menu_present": true,
   "autoclose": false,
   "autocomplete": true,
   "bibliofile": "biblio.bib",
   "cite_by": "apalike",
   "current_citInitial": 1,
   "eqLabelWithNumbers": true,
   "eqNumInitial": 1,
   "hotkeys": {
    "equation": "Ctrl-E",
    "itemize": "Ctrl-I"
   },
   "labels_anchors": false,
   "latex_user_defs": false,
   "report_style_numbering": false,
   "user_envs_cfg": false
  },
  "toc": {
   "base_numbering": 1,
   "nav_menu": {},
   "number_sections": false,
   "sideBar": true,
   "skip_h1_title": false,
   "title_cell": "Table of Contents",
   "title_sidebar": "Contents",
   "toc_cell": false,
   "toc_position": {
    "height": "calc(100% - 180px)",
    "left": "10px",
    "top": "150px",
    "width": "270.5px"
   },
   "toc_section_display": true,
   "toc_window_display": false
  }
 },
 "nbformat": 4,
 "nbformat_minor": 2
}
