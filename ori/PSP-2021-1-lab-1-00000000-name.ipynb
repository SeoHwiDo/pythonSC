{
 "cells": [
  {
   "cell_type": "markdown",
   "metadata": {},
   "source": [
    "<h1 align='center'> 파이썬과학프로그래밍기초 실습 1</h1>\n",
    "\n",
    "<p style=\"text-align: right\"> 2021.3.10</p>"
   ]
  },
  {
   "cell_type": "markdown",
   "metadata": {},
   "source": [
    "<div class=\"alert alert-block alert-info\">\n",
    "    \n",
    "- 파일 이름에서 00000000을 자신의 학번으로, name을 자신의 이름으로 수정하세요.\n",
    "\n",
    "- 다음 줄에 자신의 이름, 학번, 학과(전공)을 적으세요.\n",
    "\n",
    "* 이름:   &nbsp;&nbsp;          학번:    &nbsp;&nbsp;         학과(전공):\n",
    "    \n",
    "</div>\n",
    "\n",
    "- Jupyter notebook에 대한 설명은 [The Jupyter Notebook](https://jupyter-notebook.readthedocs.io/en/stable/)을  참고하라\n",
    "\n",
    "- Markdown은 [Markdown Guide](https://www.markdownguide.org/)를 참고하라.\n",
    "- [Markdown Cheat Sheet](https://www.markdownguide.org/cheat-sheet/)\n",
    "\n",
    "* 1차 제출: 오후 2:50까지 실습 시간에 마무리한 것을 제출\n",
    "* 2차 마감: 1차 제출시 완성하지 못한 학생들은 3월 12일 (금) 오후 6:00까지 최종본 제출\n"
   ]
  },
  {
   "cell_type": "markdown",
   "metadata": {},
   "source": [
    "## 1. Jupyter Notebook 관련\n",
    "\n",
    "#### 문제  1. 이 셀 아래에 새로운 code 셀을 만들려고 한다. 현재 셀을 선택한 상태에서 어떤 키를 눌러야 하는가?\n",
    "\n",
    "**답**:"
   ]
  },
  {
   "cell_type": "markdown",
   "metadata": {},
   "source": [
    "#### 문제  2. Code cell에서 한 문장의 첫 글자가 '!'이면, 해당 OS의 system command로 처리된다.\n",
    "\n",
    "   이 셀 아래에 새로운 code 셀을 만들어서 아래 명령을 실행하려고 한다. 이 셀을 실행하려면 어떤 키를 눌러야 하는지 설명하라.\n",
    "\n",
    "```code\n",
    "!pwd\n",
    "```\n",
    "\n",
    "**답**:"
   ]
  },
  {
   "cell_type": "markdown",
   "metadata": {},
   "source": [
    "#### 문제 3. 이 셀 아래에 새로운 code 셀을 만들고, 그 셀을 Markdown cell을 만드는 방법을 설명하라.\n",
    "\n",
    "**답**:"
   ]
  },
  {
   "cell_type": "markdown",
   "metadata": {},
   "source": [
    "#### 생각해 보기\n",
    "\n",
    "Markdown cell에 수식을 사용하기 위해서는 &#37;와 &#37; 사이에 또는 &#37;&#37;와 &#37;&#37; 사이에수식을 넣을 수 있다. "
   ]
  },
  {
   "cell_type": "markdown",
   "metadata": {},
   "source": [
    "- $n$ 개의 원소 $x_i$로 이루어진 모집단의 평균, 분산, 표준편차를 구하는 식은 다음과 같다.\n",
    "\n",
    "-----------\n",
    "$$\\bar{x} = \\frac{1}{n}\\sum_{i=1}^{n} x_i $$\n",
    "$$\\sigma^2 =  \\frac{1}{n}\\sum_{i=1}^{n} (x_i - \\bar{x})^2 $$\n",
    "$$\\sigma =  \\sqrt{\\frac{1}{n}\\sum_{i=1}^{n} (x_i - \\bar{x})^2} $$\n",
    "-----------\n",
    "$$ \\sqrt[3]{8} = 2$$\n",
    "----\n"
   ]
  },
  {
   "cell_type": "markdown",
   "metadata": {},
   "source": [
    "- 이 셀에 위 셀의 수식들을 직접 입력해 보고, 적당히 변형시켜서 새로운 식을 작성해 보라.\n"
   ]
  },
  {
   "cell_type": "markdown",
   "metadata": {},
   "source": [
    "## 2. Python 연산자"
   ]
  },
  {
   "cell_type": "markdown",
   "metadata": {},
   "source": [
    "### 2.1 Python 비트 연산자"
   ]
  },
  {
   "cell_type": "markdown",
   "metadata": {},
   "source": [
    "&#32; | AND(&) | OR(&#124;) |XOR(^)\n",
    "--|---|---|---\n",
    "a | 0111 | 0111 | 0111\n",
    "b | 1011 | 0111 | 0111\n",
    "결과 |  0011 |  1111  |  1100\n",
    " \n",
    "\n",
    "\n"
   ]
  },
  {
   "cell_type": "code",
   "execution_count": null,
   "metadata": {},
   "outputs": [],
   "source": [
    "3 << 1, 3 << 2, 3 << 3, 3 << 4"
   ]
  },
  {
   "cell_type": "code",
   "execution_count": null,
   "metadata": {},
   "outputs": [],
   "source": [
    "-3 << 1, -3 << 2, -3 << 3, -3 << 4"
   ]
  },
  {
   "cell_type": "code",
   "execution_count": null,
   "metadata": {},
   "outputs": [],
   "source": [
    "77 >> 1, 77 >> 2, 77 >> 3, 77 >> 4"
   ]
  },
  {
   "cell_type": "code",
   "execution_count": null,
   "metadata": {},
   "outputs": [],
   "source": [
    "-77 >> 1, -77 >> 2, -77 >> 3, -77 >> 4"
   ]
  },
  {
   "cell_type": "code",
   "execution_count": null,
   "metadata": {},
   "outputs": [],
   "source": [
    "77/2, 77//2, int(38.5), -77/2, -77//2, int(-38.5), -77>>1"
   ]
  },
  {
   "cell_type": "code",
   "execution_count": null,
   "metadata": {},
   "outputs": [],
   "source": [
    "77 //2 == 77 >> 1, 77 //4 == 77 >> 2, -77 //2 == -77 >> 1, -77 //2**2 == -77 >> 2"
   ]
  },
  {
   "cell_type": "code",
   "execution_count": null,
   "metadata": {},
   "outputs": [],
   "source": [
    "n = 43542\n",
    "n >> 5 == n // (2 ** 5)"
   ]
  },
  {
   "cell_type": "code",
   "execution_count": null,
   "metadata": {},
   "outputs": [],
   "source": [
    "-5 // 2, 5 // 2"
   ]
  },
  {
   "cell_type": "markdown",
   "metadata": {},
   "source": [
    "<div class=\"alert alert-info\">\n",
    "    \n",
    "**나머지 정리**\n",
    "    \n",
    "정수 $m$을 $n$으로 나누었을 때의 몫과 나머지를 각각 $q$와 $r$이라고 하면,\n",
    "   $$ m = qn + r,  (0 \\le r < n)$$\n",
    "</div>\n",
    "\n",
    "$$ 5 = 2 \\cdot 2 + 1$$\n",
    "$$ -5 = -3 \\cdot 2 + 1$$"
   ]
  },
  {
   "cell_type": "markdown",
   "metadata": {},
   "source": [
    "&#32; | 0000011 ( 3) | 1001101 (77)\n",
    "--|--|--\n",
    "n | Shift Left (<< n) | Shift Right(>> n)\n",
    "1  | 0000110 ( 6)  | 0100110 (38)\n",
    "2  | 0001100 (12)  | 0010011 (19)\n",
    "3  | 0011000 (24)  | 0001001 ( 9)\n",
    "4  | 0110000 (48)  | 0000100 ( 4)"
   ]
  },
  {
   "cell_type": "code",
   "execution_count": null,
   "metadata": {},
   "outputs": [],
   "source": [
    "-4 >> 1, (-4) >> 1, (-5) >> 1, 5 >> 1"
   ]
  },
  {
   "cell_type": "markdown",
   "metadata": {},
   "source": [
    "### 2.2 Unary 연산자\n",
    "\n"
   ]
  },
  {
   "cell_type": "code",
   "execution_count": null,
   "metadata": {},
   "outputs": [],
   "source": [
    "x = 5\n",
    "print(+x, -x, ~x, ~~x)\n",
    "x = -6\n",
    "print(+x, -x, ~x, ~~x)"
   ]
  },
  {
   "cell_type": "markdown",
   "metadata": {},
   "source": [
    "#### 문제 4. 아래 스크립트를 아래의 code cell에서 실행하고 그 결과가 나온 이유를 설명하라.\n",
    "```python\n",
    "print(~3)\n",
    "print(~-4)\n",
    "print(-4 + +2 - ~3)\n",
    "print(3 >> 1)\n",
    "print(7 >> 2)\n",
    "print(3 << 1)\n",
    "print(5 & 2)\n",
    "print(5 | 2)\n",
    "print(9 ^ 2)\n",
    "\n",
    "```"
   ]
  },
  {
   "cell_type": "markdown",
   "metadata": {},
   "source": [
    "### 2.3 논리 연산자"
   ]
  },
  {
   "cell_type": "code",
   "execution_count": null,
   "metadata": {
    "scrolled": true
   },
   "outputs": [],
   "source": [
    "True and False"
   ]
  },
  {
   "cell_type": "code",
   "execution_count": null,
   "metadata": {},
   "outputs": [],
   "source": [
    "bool(0), bool(-1)"
   ]
  },
  {
   "cell_type": "code",
   "execution_count": null,
   "metadata": {},
   "outputs": [],
   "source": [
    "bool([1, 2]), bool([0]), bool([])"
   ]
  },
  {
   "cell_type": "code",
   "execution_count": null,
   "metadata": {},
   "outputs": [],
   "source": [
    "bool(\"abc\"), bool(\"\")"
   ]
  },
  {
   "cell_type": "markdown",
   "metadata": {},
   "source": [
    "### 2.4  연산자 우선 순위\n",
    "\n",
    "| 순위 |  연산자 |\n",
    "--|--\n",
    "1 | ( )\n",
    "2 | \\*\\*\n",
    "3 | +x, -x, ~x\n",
    "4 | \\*, \\/, \\/\\/, \\%\n",
    "5 | +, -\n",
    "6 | \\<\\<, \\>\\>\n",
    "7 | \\&\n",
    "8 | \\^\n",
    "9 | &#124;\n",
    "10 | ==, !=, \\>, \\>=, \\<, \\<=, is, is not, in, not in\n",
    "11 | not\n",
    "12 | and\n",
    "13 | or\n",
    "\n",
    "- 한 명령 줄에 우선 순위가 동일한 연산자들이 여러 개 있는 경우에는 왼쪽에서 오른쪽\n",
    "순으로 연산이 실행됨"
   ]
  },
  {
   "cell_type": "code",
   "execution_count": null,
   "metadata": {},
   "outputs": [],
   "source": [
    "3 and \"abc\" or []"
   ]
  },
  {
   "cell_type": "code",
   "execution_count": null,
   "metadata": {},
   "outputs": [],
   "source": [
    "3 or \"abc\" and []"
   ]
  },
  {
   "cell_type": "code",
   "execution_count": null,
   "metadata": {},
   "outputs": [],
   "source": [
    "~2"
   ]
  },
  {
   "cell_type": "code",
   "execution_count": null,
   "metadata": {},
   "outputs": [],
   "source": [
    "3 ** ~-2"
   ]
  },
  {
   "cell_type": "code",
   "execution_count": null,
   "metadata": {},
   "outputs": [],
   "source": [
    "3 * 4 / 2"
   ]
  },
  {
   "cell_type": "markdown",
   "metadata": {},
   "source": [
    "#### 예제 1. 이 예제는 연산자의 우선순위를 알아보는 예제이다. 아래 스크립트를 실행한 경우에 연산이 실행되는 순서외 최종 결과를 적어라. \n",
    "```python\n",
    "a = 4 * 3**2 / 2 \n",
    "```\n",
    "\n",
    "- 순서: 1) `3**2`    2) `4 * (3**2)`    3) `4 * 3**2 / 2` \n",
    "- 결과: 18"
   ]
  },
  {
   "cell_type": "markdown",
   "metadata": {},
   "source": [
    "#### 문제 5. 아래 스크립트를 실행한 경우에 연산이 실행되는 순서를 적어라. \n",
    "```python\n",
    "1) 4 * 3 ** 2 / 2 \n",
    "2) 32 >> 8 // 4 * 2\n",
    "3) -4 + +5 -~3 + ~-2\n",
    "4) 5 and [] or not 3 and not \"\"\n",
    "5) not - 5 or 'abc' and ~ 4 or [1, 2, 3]\n",
    "6) not - 5 or 1 and ('' or [1, 2, 3])\n",
    "```"
   ]
  },
  {
   "cell_type": "markdown",
   "metadata": {},
   "source": [
    "## 3. 조건문\n",
    "\n",
    "1.\n",
    "```code\n",
    "if <조건식>: \n",
    "    <statement(s)>\n",
    "```\n",
    "\n",
    "\n",
    "2.\n",
    "```code\n",
    "if <조건식>: \n",
    "    <statement(s)>\n",
    "else:\n",
    "    <statement(s)>\n",
    "```\n",
    "\n",
    "3.\n",
    "\n",
    "```code\n",
    "if <조건식>: \n",
    "    <statement(s)>\n",
    "elif <조건식>:\n",
    "    <statement(s)>\n",
    "else:\n",
    "    <statement(s)>\n",
    "```"
   ]
  },
  {
   "cell_type": "markdown",
   "metadata": {},
   "source": [
    "#### 아래 셀들을 실행하면서 프로그램의 구조를 생각해 보자."
   ]
  },
  {
   "cell_type": "code",
   "execution_count": null,
   "metadata": {},
   "outputs": [],
   "source": [
    "n = eval(input(\"정수를 입력하시오: \"))\n",
    "if n % 2:\n",
    "    print(f\"정수 {n} 은(는) 홀수이다.\")"
   ]
  },
  {
   "cell_type": "code",
   "execution_count": null,
   "metadata": {},
   "outputs": [],
   "source": [
    "n = eval(input(\"정수를 입력하시오: \"))\n",
    "if n % 2:\n",
    "    print(f\"정수 {n} 은(는) 홀수이다.\")\n",
    "else:\n",
    "    print(f\"정수 {n} 은(는) 짝수이다.\")"
   ]
  },
  {
   "cell_type": "code",
   "execution_count": null,
   "metadata": {},
   "outputs": [],
   "source": [
    "n = eval(input(\"정수를 입력하시오: \"))\n",
    "if n % 3 == 1:\n",
    "    print(f\"정수 {n} 을(를) 3으로 나눈 나머니가 1이다.\")\n",
    "elif n % 3 == 2:\n",
    "    print(f\"정수 {n} 을(를) 3으로 나눈 나머니가 2이다.\")\n",
    "else:\n",
    "    print(f\"정수 {n} 은(는) 3의 배수이다.\")"
   ]
  },
  {
   "cell_type": "code",
   "execution_count": null,
   "metadata": {},
   "outputs": [],
   "source": []
  },
  {
   "cell_type": "markdown",
   "metadata": {},
   "source": [
    "## 4. 반복문\n",
    "\n",
    "### 4.1 For 문을 이용한 반복 제어\n",
    "\n",
    "```code\n",
    "for <var> in <iterable>: \n",
    "    <statement(s)>\n",
    "```       "
   ]
  },
  {
   "cell_type": "markdown",
   "metadata": {},
   "source": [
    "#### 아래 셀들을 실행하면서 프로그램의 구조를 생각해 보자."
   ]
  },
  {
   "cell_type": "code",
   "execution_count": null,
   "metadata": {
    "scrolled": true
   },
   "outputs": [],
   "source": [
    "for n in 1, 2, 3, 4:\n",
    "    print(n)"
   ]
  },
  {
   "cell_type": "code",
   "execution_count": null,
   "metadata": {},
   "outputs": [],
   "source": [
    "먹을거리 = ['수프를', '빵을', '밥을', '과일을']\n",
    "for food in 먹을거리:\n",
    "    print(f\"나는 {food} 먹는다.\")"
   ]
  },
  {
   "cell_type": "code",
   "execution_count": null,
   "metadata": {},
   "outputs": [],
   "source": [
    "for n in 2, 3, 5, 7, 11, 13, 17, 19, 23, 29:\n",
    "    print(n, end=\", \")"
   ]
  },
  {
   "cell_type": "markdown",
   "metadata": {},
   "source": [
    "#### range 객체\n",
    "\n",
    "- range(start, stop, step) "
   ]
  },
  {
   "cell_type": "markdown",
   "metadata": {},
   "source": [
    "#### 아래 셀들을 실행하면서 프로그램의 구조를 생각해 보자."
   ]
  },
  {
   "cell_type": "code",
   "execution_count": null,
   "metadata": {
    "scrolled": true
   },
   "outputs": [],
   "source": [
    "for n in range(1, 5):\n",
    "    print(n)"
   ]
  },
  {
   "cell_type": "code",
   "execution_count": null,
   "metadata": {},
   "outputs": [],
   "source": [
    "for n in range(1, 10, 2):\n",
    "    print(n)"
   ]
  },
  {
   "cell_type": "code",
   "execution_count": null,
   "metadata": {},
   "outputs": [],
   "source": [
    "for n in range(10, 1, -2):\n",
    "    print(n)"
   ]
  },
  {
   "cell_type": "code",
   "execution_count": null,
   "metadata": {},
   "outputs": [],
   "source": [
    "x = range(10)\n",
    "print(str(x), ':', x.start, x.stop, x.step)\n",
    "x = range(1, 10)\n",
    "print(str(x), ':',  x.start, x.stop, x.step)\n",
    "x = range(1, 12, 3)\n",
    "print(str(x), ':',  x.start, x.stop, x.step)"
   ]
  },
  {
   "cell_type": "code",
   "execution_count": null,
   "metadata": {},
   "outputs": [],
   "source": [
    "for n in range(2, 31):\n",
    "     print(n, end=\" \")"
   ]
  },
  {
   "cell_type": "code",
   "execution_count": null,
   "metadata": {
    "scrolled": true
   },
   "outputs": [],
   "source": [
    "for n in range(2, 31):\n",
    "    print(f\"{n:2}\", end=\" : \")\n",
    "    for k in range(2, n//2 + 1):\n",
    "        print(n%k, end=\" \")\n",
    "    print()"
   ]
  },
  {
   "cell_type": "markdown",
   "metadata": {},
   "source": [
    "#### 문제 6. 키보드로 입력받은 자연수가 소수인지 확인하는 프로그램을 아래 셀에 작성하라. 단, for loop을 사용하라."
   ]
  },
  {
   "cell_type": "code",
   "execution_count": null,
   "metadata": {},
   "outputs": [],
   "source": [
    "n = int(input(\"2 이상의 자연수를 입력하시오: \"))\n",
    "assert n > 1\n"
   ]
  },
  {
   "cell_type": "markdown",
   "metadata": {},
   "source": [
    "#### 문제 7. 30이하의 자연수 중에 모든 소수를 출력하는 프로그램을 아래 셀에 작성하라. 단, 중첩 (nested) for loop을 사용하라."
   ]
  },
  {
   "cell_type": "code",
   "execution_count": null,
   "metadata": {},
   "outputs": [],
   "source": []
  },
  {
   "cell_type": "markdown",
   "metadata": {},
   "source": [
    "### 4.2 Print 문 연습\n",
    "\n",
    "#### 아래 cell을 실행하고 그 구조를 이해해 보자."
   ]
  },
  {
   "cell_type": "code",
   "execution_count": null,
   "metadata": {},
   "outputs": [],
   "source": [
    "rows = int(input(\"줄 수를 입력하시오 (1 이상): \"))  \n",
    "assert n > 0\n",
    "for row in range(0, rows):  \n",
    "    for col in range(0, row+1):\n",
    "        print('*', end=\"\")\n",
    "    print()\n"
   ]
  },
  {
   "cell_type": "markdown",
   "metadata": {},
   "source": [
    "#### 문제 8. 아래에 위 프로그램의 모든 줄에 대해서 이해한 것을 적어라.\n",
    "**프로그램 설명**\n",
    "\n",
    "```\n",
    "rows = int(input(\"줄 수를 입력하시오: \"))  # 화면에 '줄 수를 입력하시오: '라는 문자열 출력하고\n",
    "                                           # 키보드로부터 받은 숫자를 정수형 데이터로 변환하여\n",
    "                                           # rows 라는 변수에 할당\n",
    "\n",
    "for row in range(0, rows):  \n",
    "    for col in range(0, row+1):\n",
    "        print('*', end=\"\")\n",
    "    print()\n",
    "\n",
    "```"
   ]
  },
  {
   "cell_type": "markdown",
   "metadata": {},
   "source": [
    "#### f-string을 이용하여 출력 문자열 포맷하기"
   ]
  },
  {
   "cell_type": "code",
   "execution_count": null,
   "metadata": {},
   "outputs": [],
   "source": [
    "# 정수형 변수의 값 출력하기\n",
    "a = 5\n",
    "b = 3\n",
    "c = 9\n",
    "# old style\n",
    "print(\"%5d%5d%5d\" % (a, b, c))\n",
    "# f-string\n",
    "print(f\"{a}{b}{c}\")\n",
    "print(f\"{a:5}{b:5}{c:5}\")\n",
    "print(f\"{a:>5}{b:>5}{c:>5}\")\n",
    "print(f\"{a:<5}{b:<5}{c:<5}\")\n",
    "print(f\"{a:^5}{b:^5}{c:^5}\")\n"
   ]
  },
  {
   "cell_type": "code",
   "execution_count": null,
   "metadata": {},
   "outputs": [],
   "source": [
    "# 실수형 변수의 값 출력 포맷 정하기\n",
    "x = 5.3538\n",
    "y = 32.45\n",
    "z = -135.3\n",
    "# old style\n",
    "print(\"x=%6.3f, y=%6.3f, z=%6.3f\" % (x, y, z))\n",
    "# f-string\n",
    "print(f\"x={x:6.3f}, y={y:6.3f}, z={z:6.3f}\")\n"
   ]
  },
  {
   "cell_type": "code",
   "execution_count": null,
   "metadata": {},
   "outputs": [],
   "source": [
    "n = int(input(\"구구단 단 수를 입력하시오 (2 ~ 9):\"))  \n",
    "assert 2 <= n <= 9\n",
    "for i in range(1, 10):  \n",
    "    print(f\"{n} x {i} = {n*i:2}\")"
   ]
  },
  {
   "cell_type": "markdown",
   "metadata": {},
   "source": [
    "#### 문제 9. Console에 다음과 같은 문자열을 출력하는 프로그램을 작성하라.\n",
    "\n",
    "```\n",
    "2 x 1 =  2  3 x 1 =  3  4 x 1 =  4  5 x 1 =  5  6 x 1 =  6  7 x 1 =  7  8 x 1 =  8  9 x 1 =  9  \n",
    "2 x 2 =  4  3 x 2 =  6  4 x 2 =  8  5 x 2 = 10  6 x 2 = 12  7 x 2 = 14  8 x 2 = 16  9 x 2 = 18  \n",
    "2 x 3 =  6  3 x 3 =  9  4 x 3 = 12  5 x 3 = 15  6 x 3 = 18  7 x 3 = 21  8 x 3 = 24  9 x 3 = 27  \n",
    "2 x 4 =  8  3 x 4 = 12  4 x 4 = 16  5 x 4 = 20  6 x 4 = 24  7 x 4 = 28  8 x 4 = 32  9 x 4 = 36  \n",
    "2 x 5 = 10  3 x 5 = 15  4 x 5 = 20  5 x 5 = 25  6 x 5 = 30  7 x 5 = 35  8 x 5 = 40  9 x 5 = 45  \n",
    "2 x 6 = 12  3 x 6 = 18  4 x 6 = 24  5 x 6 = 30  6 x 6 = 36  7 x 6 = 42  8 x 6 = 48  9 x 6 = 54  \n",
    "2 x 7 = 14  3 x 7 = 21  4 x 7 = 28  5 x 7 = 35  6 x 7 = 42  7 x 7 = 49  8 x 7 = 56  9 x 7 = 63  \n",
    "2 x 8 = 16  3 x 8 = 24  4 x 8 = 32  5 x 8 = 40  6 x 8 = 48  7 x 8 = 56  8 x 8 = 64  9 x 8 = 72  \n",
    "2 x 9 = 18  3 x 9 = 27  4 x 9 = 36  5 x 9 = 45  6 x 9 = 54  7 x 9 = 63  8 x 9 = 72  9 x 9 = 81  \n",
    "```"
   ]
  },
  {
   "cell_type": "code",
   "execution_count": null,
   "metadata": {},
   "outputs": [],
   "source": []
  },
  {
   "cell_type": "markdown",
   "metadata": {},
   "source": [
    "### 4.3 While 문을 이용한 반복 제어\n",
    "\n",
    "```code\n",
    "while <boolean_expression>: \n",
    "    <statement(s)>\n",
    "```       "
   ]
  },
  {
   "cell_type": "markdown",
   "metadata": {},
   "source": [
    "##### 생각해 보기"
   ]
  },
  {
   "cell_type": "code",
   "execution_count": null,
   "metadata": {
    "scrolled": true
   },
   "outputs": [],
   "source": [
    "# for count in range(1, 5)\n",
    "count = 1\n",
    "while count < 5:\n",
    "   print(count)\n",
    "   count = count + 1\n"
   ]
  },
  {
   "cell_type": "code",
   "execution_count": null,
   "metadata": {
    "scrolled": true
   },
   "outputs": [],
   "source": [
    "# for count in range(-1, 10, 2)\n",
    "count = -1\n",
    "while count < 10:\n",
    "   print(count)\n",
    "   count += 2\n"
   ]
  },
  {
   "cell_type": "code",
   "execution_count": null,
   "metadata": {},
   "outputs": [],
   "source": [
    "#\n",
    "# for food in ['수프를', '빵을', '밥을', '과일을']\n",
    "#\n",
    "먹을거리 = iter(['수프를', '빵을', '밥을', '과일을'])\n",
    "while True:\n",
    "    try:\n",
    "        food = next(먹을거리)\n",
    "        print(f\"나는 {food} 먹는다.\")\n",
    "    except StopIteration:\n",
    "        break"
   ]
  },
  {
   "cell_type": "markdown",
   "metadata": {},
   "source": [
    "#### 문제 10. 키보드로 입력받은 자연수가 소수인지 확인하는 프로그램을 아래 셀에 작성하라. 단, while loop을 사용하라."
   ]
  },
  {
   "cell_type": "code",
   "execution_count": null,
   "metadata": {},
   "outputs": [],
   "source": [
    "n = int(input(\"2 이상의 자연수를 입력하시오: \"))\n",
    "assert n > 1\n",
    "n_is_a_prime = True\n",
    "\n"
   ]
  },
  {
   "cell_type": "markdown",
   "metadata": {},
   "source": [
    "<div class=\"alert alert-block alter-warning\">\n",
    "     \n",
    "**주의**: 현재 Jupyter notebook에서는 정상적인 Turtle graphic 프로그램도 문제를 일으키니, Turtle graphic 프로그램은 반드시 Spyder에서 작성하고 실행을 확인한 후에 source code만 jupyter notebook cell에 적기 바랍니다.\n",
    "\n",
    "</div>"
   ]
  },
  {
   "cell_type": "markdown",
   "metadata": {},
   "source": [
    "#### 생각해 보기"
   ]
  },
  {
   "cell_type": "code",
   "execution_count": null,
   "metadata": {},
   "outputs": [],
   "source": [
    "import turtle\n",
    "t = turtle.Turtle()\n",
    "t.forward(100)\n",
    "t.left(90)\n",
    "t.forward(100)\n",
    "t.left(90)\n",
    "t.forward(100)\n",
    "t.left(90)\n",
    "t.forward(100)\n",
    "t.left(90)\n",
    "turtle.exitonclick()\n"
   ]
  },
  {
   "cell_type": "markdown",
   "metadata": {},
   "source": [
    "#### 문제 11. 위에 있는  스크립트를 for loop을 사용하여 다시 작성하고, 실행하여 결과를 확인하라."
   ]
  },
  {
   "cell_type": "code",
   "execution_count": null,
   "metadata": {},
   "outputs": [],
   "source": []
  },
  {
   "cell_type": "markdown",
   "metadata": {},
   "source": [
    "#### 문제 12. 문제 11의 스크립트를 while loop을 사용하여 다시 작성하라."
   ]
  },
  {
   "cell_type": "code",
   "execution_count": null,
   "metadata": {},
   "outputs": [],
   "source": []
  },
  {
   "cell_type": "markdown",
   "metadata": {},
   "source": [
    "#### 문제 13. 문제 11에서 작성한 스크립트를 수정하여 정8각형을 그리는 스크립트를 작성하라."
   ]
  },
  {
   "cell_type": "code",
   "execution_count": null,
   "metadata": {},
   "outputs": [],
   "source": []
  },
  {
   "cell_type": "markdown",
   "metadata": {},
   "source": [
    "#### 생각해 보기"
   ]
  },
  {
   "cell_type": "code",
   "execution_count": null,
   "metadata": {},
   "outputs": [],
   "source": [
    "import turtle\n",
    "t = turtle.Turtle()\n",
    "for _ in range(5):\n",
    "    t.forward(200)\n",
    "    t.right(180-36)\n",
    "turtle.exitonclick()"
   ]
  },
  {
   "cell_type": "markdown",
   "metadata": {},
   "source": [
    "#### 문제 14.  바로 위의 프로그램을 참조해서 Turtle 그래픽의 turtle.forward와 turtle.right의 조합의 반복으로 꼭지점의 개수가 n개 (n은 5 이상의 혹수)인 별 모양의 그림을 그리는 프로그램을 작성하라."
   ]
  },
  {
   "cell_type": "code",
   "execution_count": null,
   "metadata": {
    "scrolled": true
   },
   "outputs": [],
   "source": []
  }
 ],
 "metadata": {
  "kernelspec": {
   "display_name": "Python 3",
   "language": "python",
   "name": "python3"
  },
  "language_info": {
   "codemirror_mode": {
    "name": "ipython",
    "version": 3
   },
   "file_extension": ".py",
   "mimetype": "text/x-python",
   "name": "python",
   "nbconvert_exporter": "python",
   "pygments_lexer": "ipython3",
   "version": "3.8.5"
  },
  "latex_envs": {
   "LaTeX_envs_menu_present": true,
   "autoclose": false,
   "autocomplete": true,
   "bibliofile": "biblio.bib",
   "cite_by": "apalike",
   "current_citInitial": 1,
   "eqLabelWithNumbers": true,
   "eqNumInitial": 1,
   "hotkeys": {
    "equation": "Ctrl-E",
    "itemize": "Ctrl-I"
   },
   "labels_anchors": false,
   "latex_user_defs": false,
   "report_style_numbering": false,
   "user_envs_cfg": false
  },
  "toc": {
   "base_numbering": 1,
   "nav_menu": {},
   "number_sections": false,
   "sideBar": true,
   "skip_h1_title": false,
   "title_cell": "Table of Contents",
   "title_sidebar": "Contents",
   "toc_cell": false,
   "toc_position": {
    "height": "calc(100% - 180px)",
    "left": "10px",
    "top": "150px",
    "width": "270.5px"
   },
   "toc_section_display": true,
   "toc_window_display": true
  }
 },
 "nbformat": 4,
 "nbformat_minor": 2
}
