{
 "cells": [
  {
   "cell_type": "markdown",
   "metadata": {},
   "source": [
    "<h1 align='center'> 파이썬과학프로그래밍기초 실습 4</h1>\n",
    "\n",
    "<p style=\"text-align: right\"> 2021.3.31</p>"
   ]
  },
  {
   "cell_type": "markdown",
   "metadata": {},
   "source": [
    "<div class=\"alert alert-block alert-info\">\n",
    "    \n",
    "- 파일 이름에서 00000000을 자신의 학번으로, name을 자신의 이름으로 수정하세요.\n",
    "\n",
    "- 다음 줄에 자신의 이름, 학번, 학과(전공)을 적으세요.\n",
    "\n",
    "* 이름:   &nbsp;&nbsp;          학번:    &nbsp;&nbsp;         학과(전공):\n",
    "    \n",
    "</div>\n",
    "\n",
    "- Jupyter notebook에 대한 설명은 [The Jupyter Notebook](https://jupyter-notebook.readthedocs.io/en/stable/)을  참고하라\n",
    "\n",
    "- Markdown은 [Markdown Guide](https://www.markdownguide.org/)를 참고하라.\n",
    "- [Markdown Cheat Sheet](https://www.markdownguide.org/cheat-sheet/)\n",
    "\n",
    "* 1차 제출: 오후 3:20까지 실습 시간에 마무리한 것을 제출\n",
    "* 2차 마감: 1차 제출시 완성하지 못한 학생들은 3월 26일 (금) 오후 6:00까지 최종본 제출. \n",
    "  1차에 모든 과제를 완성한 학생들도 1차와 2차에 모두 제출해야 함.\n"
   ]
  },
  {
   "cell_type": "markdown",
   "metadata": {
    "scrolled": true
   },
   "source": [
    "\n",
    "### 예제 1.\n",
    "\n",
    "student_records.csv 파일은 2031년도 파이썬고급프로그래밍 수업을 듣는 **가상의** 학생들의 이름, 학번, 소속, 그리고 5 번의 시험 점수를 dictionary 형식으로 기록한 것이다. \n",
    "\n",
    "(학생들의 이름과 학번은 현재 파이썬프로그래밍기초 수업을 듣는 학생들의 이름을 임의로 조작하여 만든 가상의 이름과 학번입니다.)\n",
    "\n",
    "아래 셀의 프로그램은 csv 파일을 Dictionary로 읽는 것이다.\n",
    "\n",
    "아래 프로그램을 실행하여 보라."
   ]
  },
  {
   "cell_type": "code",
   "execution_count": null,
   "metadata": {},
   "outputs": [],
   "source": [
    "import csv\n",
    "\n",
    "with open('student_records.csv', mode='r', encoding='utf-8') as csv_file:\n",
    "    csv_reader = csv.DictReader(csv_file)\n",
    "    line_count = 0\n",
    "    for row in csv_reader:\n",
    "        if line_count == 0:\n",
    "            print(f'Column names are {\", \".join(row)}')\n",
    "            line_count += 1\n",
    "        print(row)\n",
    "        line_count += 1\n",
    "    print(f'Processed {line_count} lines.')"
   ]
  },
  {
   "cell_type": "markdown",
   "metadata": {},
   "source": [
    "#### 문제 1.\n",
    "이 dictionary에서 학번과 모든 시험 점수를 문자열에서 정수형으로 바구고, 시험 점수의 합계와 평균을 다음과 같이 추가하라. 평균은 소숫점 둘째자리에서 반올림해야 한다.\n",
    "\n",
    "예를 들어 첫 학생의 key:value는 다음과 같이 수정된다.\n",
    "```\n",
    "{'이름': '서승운': '학번': 20235458, '소속': '빅데이터전공', '시험1': 77, '시험2': 43, '시험3': 93, '시험4': 49, '시험5': 5, '합계': 343, '평균': 68.6}\n",
    "```\n",
    "\n",
    "수정한 후에 학생의 이름을 키보드로 입력 받은 후에 학생의 이름, 합계, 평균을 consoledp 출력하는 프로그램을 작성하라.\n"
   ]
  },
  {
   "cell_type": "markdown",
   "metadata": {},
   "source": [
    "#### 문제 2.\n",
    " 학생들의 소속 학과(전공)의 이름을 원소로 가진 리스트 unique_dept_names를 구하라.\n",
    " 단, 소속 이름은 오름차순으로 정렬하라.\n",
    " 결과는 다음과 같아야 한다.\n",
    " ```\n",
    " ['광고홍보학과',\n",
    " '금융재무학과',\n",
    " '데이터테크전공',\n",
    " '러시아학과',\n",
    " '빅데이터전공',\n",
    " '스마트IoT전공',\n",
    " '융합소프트웨어학과',\n",
    " '임상의학통계전공',\n",
    " '전자공학과',\n",
    " '컴퓨터공학과',\n",
    " '콘텐츠IT전공']\n",
    " ```"
   ]
  },
  {
   "cell_type": "markdown",
   "metadata": {},
   "source": [
    "#### 문제 3.\n",
    "소속별 학생 수를 막대 그래프로 그리는 프로그램을 작성하라.\n",
    "\n",
    "```\n",
    "import matplotlib.pyplot as plt\n",
    "plt.rcParams[\"font.family\"] = 'NanumMyeongjo'\n",
    "plt.bar( ...,  ... )\n",
    "plt.xticks( ..., ...)\n",
    "plt.show()\n",
    "```\n",
    "[Matplotlib bar 그래프 참조](https://matplotlib.org/stable/api/_as_gen/matplotlib.pyplot.bar.html)\n",
    "\n",
    "![소속기관별학생수](students_per_dept_v.png)"
   ]
  },
  {
   "cell_type": "markdown",
   "metadata": {},
   "source": [
    "#### 문제 4.\n",
    "소속별 학생 수를 막대 그래프로 그리는 프로그램을 작성하라.\n",
    "\n",
    "```\n",
    "import matplotlib.pyplot as plt\n",
    "plt.rcParams[\"font.family\"] = 'NanumMyeongjo'\n",
    "plt.bar( ...,  ... )\n",
    "plt.xticks( ..., ...)\n",
    "plt.show()\n",
    "```\n",
    "\n",
    "<img src='students_per_dept_h.png' />"
   ]
  },
  {
   "cell_type": "markdown",
   "metadata": {},
   "source": [
    "#### 문제 5.\n",
    " 학생들의 입학연도별 학생 수를 구하고 막대 그래프로 그려라."
   ]
  },
  {
   "cell_type": "code",
   "execution_count": null,
   "metadata": {},
   "outputs": [],
   "source": []
  },
  {
   "cell_type": "markdown",
   "metadata": {},
   "source": [
    "###### 문제 6.\n",
    "모든 학생이 다섯 번의 시험 성적을 가지고 있다. 시험 시행 차수 별 평균과 표준 편차를 구하고, 막대 그래프로 표시하라.\n",
    "\n",
    "$$\\mu = \\frac{1}{N} \\sum_{n=1}{N} x_n, \\;\\; \\sigma = \\sqrt{\\frac{1}{N} \\sum_{n=1}{N} (x_n-\\mu)^2} $$\n",
    "\n",
    "아래 메쏘드를 사용할 때, yerr argument에 표준 편차를 지정하면 된다.\n",
    "\n",
    "```\n",
    "matplotlob.pyplot.bar()\n",
    "```\n",
    "\n",
    "![시험별평균과표준편차](mean_scores.png)"
   ]
  },
  {
   "cell_type": "code",
   "execution_count": null,
   "metadata": {},
   "outputs": [],
   "source": []
  },
  {
   "cell_type": "markdown",
   "metadata": {},
   "source": [
    "#### 문제 7\n",
    "\n",
    "다음과 같이 주어지는 두 개의 리스트가 있다.\n",
    "```\n",
    "lst_1 = [1, 10, 9, 5, 3, 3, 2, 1, 7, 8]\n",
    "lst_2 = [1, 2, 11, 15, 6, 3, 3, 6]\n",
    "```\n",
    "\n",
    "set을 이용하여 st_1과 lst_2에 공통적으로 있는 원소들을 원소로 갖는 리스트 lst 를 만들어라.\n",
    "단, 원소의 크기는 오름차순으로 정렬되어야 하고, set() 함수는 사용하지 말아야 한다.\n",
    "답은 다음과 같아야 한다.\n",
    "```\n",
    "lst: [1, 2, 3]\n",
    "```"
   ]
  },
  {
   "cell_type": "code",
   "execution_count": null,
   "metadata": {},
   "outputs": [],
   "source": []
  },
  {
   "cell_type": "markdown",
   "metadata": {},
   "source": [
    "#### 예제 2. \n",
    "\n",
    "Sympy를 이용하여 다음 적분을 구할 수 있다.\n",
    "\n",
    "$\\displaystyle \\int_0^{2\\pi} (\\sin(x) + 1) \\; dx = 2\\pi$"
   ]
  },
  {
   "cell_type": "code",
   "execution_count": null,
   "metadata": {},
   "outputs": [],
   "source": [
    "import sympy as sym\n",
    "import IPython.display as disp\n",
    "x = sym.Symbol('x')\n",
    "f = sym.sin(x) + 1\n",
    "area = sym.integrate(f, (x, 0, sym.pi * 2))\n",
    "disp.display(area)\n",
    "disp.display( sym.integrate(f, x) )"
   ]
  },
  {
   "cell_type": "markdown",
   "metadata": {},
   "source": [
    "$[a, b]$에서 적분가능한 함수 $f(x)$의 적분 근사값은 다음과 같이 구할 수 있다.\n",
    "\n",
    "$$\\displaystyle \\int_a^b f(x) \\; dx \\approx  \\sum_{k=0}^{n-1} f(x_k) \\Delta,$$\n",
    "여기에서 $\\Delta = \\frac{b-a}{n}$ and $x_k = a + \\Delta k$."
   ]
  },
  {
   "cell_type": "code",
   "execution_count": null,
   "metadata": {},
   "outputs": [],
   "source": [
    "n = 100\n",
    "\n",
    "delta = 2*math.pi / n\n",
    "total = 0\n",
    "\n",
    "for k in range(n):\n",
    "     total += math.sin(delta * k) + 1\n",
    "integral = total * delta\n",
    "print(integral)"
   ]
  },
  {
   "cell_type": "markdown",
   "metadata": {},
   "source": [
    "#### User-defined function"
   ]
  },
  {
   "cell_type": "code",
   "execution_count": null,
   "metadata": {},
   "outputs": [],
   "source": [
    "def f(x):\n",
    "    return math.sin(x) + 1\n"
   ]
  },
  {
   "cell_type": "code",
   "execution_count": null,
   "metadata": {},
   "outputs": [],
   "source": [
    "total = 0\n",
    "for k in range(n):\n",
    "     total += f(delta * k)\n",
    "integral = total * delta\n",
    "print(integral)"
   ]
  },
  {
   "cell_type": "code",
   "execution_count": null,
   "metadata": {},
   "outputs": [],
   "source": [
    "f = lambda x: math.sin(x) + 1\n",
    "total = 0\n",
    "for k in range(n):\n",
    "     total += f(delta * k)\n",
    "integral = total * delta\n",
    "print(integral)\n"
   ]
  },
  {
   "cell_type": "markdown",
   "metadata": {},
   "source": [
    "#### 문제 8.\n",
    "$[0, 3]$에서 다음과 같이 정의되는 $f(x)$가 있다.\n",
    "\n",
    "$f(x) = \\begin{cases}\n",
    "x & 0 \\le x < 2 \\\\\n",
    "-2x + 6 & 2 \\le x \\le 3\n",
    "\\end{cases}\n",
    "$\n",
    "\n",
    "$\\displaystyle \\int_0^3 f(x) \\; dx$를 구하라."
   ]
  },
  {
   "cell_type": "code",
   "execution_count": null,
   "metadata": {},
   "outputs": [],
   "source": []
  },
  {
   "cell_type": "code",
   "execution_count": null,
   "metadata": {},
   "outputs": [],
   "source": []
  }
 ],
 "metadata": {
  "kernelspec": {
   "display_name": "Python 3",
   "language": "python",
   "name": "python3"
  },
  "language_info": {
   "codemirror_mode": {
    "name": "ipython",
    "version": 3
   },
   "file_extension": ".py",
   "mimetype": "text/x-python",
   "name": "python",
   "nbconvert_exporter": "python",
   "pygments_lexer": "ipython3",
   "version": "3.8.5"
  },
  "latex_envs": {
   "LaTeX_envs_menu_present": true,
   "autoclose": false,
   "autocomplete": true,
   "bibliofile": "biblio.bib",
   "cite_by": "apalike",
   "current_citInitial": 1,
   "eqLabelWithNumbers": true,
   "eqNumInitial": 1,
   "hotkeys": {
    "equation": "Ctrl-E",
    "itemize": "Ctrl-I"
   },
   "labels_anchors": false,
   "latex_user_defs": false,
   "report_style_numbering": false,
   "user_envs_cfg": false
  },
  "toc": {
   "base_numbering": 1,
   "nav_menu": {},
   "number_sections": false,
   "sideBar": true,
   "skip_h1_title": false,
   "title_cell": "Table of Contents",
   "title_sidebar": "Contents",
   "toc_cell": false,
   "toc_position": {
    "height": "calc(100% - 180px)",
    "left": "10px",
    "top": "150px",
    "width": "270.5px"
   },
   "toc_section_display": true,
   "toc_window_display": false
  }
 },
 "nbformat": 4,
 "nbformat_minor": 2
}
