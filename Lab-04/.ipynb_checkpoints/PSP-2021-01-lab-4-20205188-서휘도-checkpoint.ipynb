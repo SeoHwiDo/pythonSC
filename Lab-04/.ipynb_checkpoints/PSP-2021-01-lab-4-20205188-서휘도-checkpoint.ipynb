{
 "cells": [
  {
   "cell_type": "markdown",
   "metadata": {},
   "source": [
    "<h1 align='center'> 파이썬과학프로그래밍기초 실습 4</h1>\n",
    "\n",
    "<p style=\"text-align: right\"> 2021.3.31</p>"
   ]
  },
  {
   "cell_type": "markdown",
   "metadata": {},
   "source": [
    "<div class=\"alert alert-block alert-info\">\n",
    "    \n",
    "- 파일 이름에서 00000000을 자신의 학번으로, name을 자신의 이름으로 수정하세요.\n",
    "\n",
    "- 다음 줄에 자신의 이름, 학번, 학과(전공)을 적으세요.\n",
    "\n",
    "* 이름:   &nbsp;서휘도&nbsp;          학번:    &nbsp;20205188&nbsp;         학과(전공):컨텐츠IT\n",
    "    \n",
    "</div>\n",
    "\n",
    "- Jupyter notebook에 대한 설명은 [The Jupyter Notebook](https://jupyter-notebook.readthedocs.io/en/stable/)을  참고하라\n",
    "\n",
    "- Markdown은 [Markdown Guide](https://www.markdownguide.org/)를 참고하라.\n",
    "- [Markdown Cheat Sheet](https://www.markdownguide.org/cheat-sheet/)\n",
    "\n",
    "* 1차 제출: 오후 3:20까지 실습 시간에 마무리한 것을 제출\n",
    "* 2차 마감: 1차 제출시 완성하지 못한 학생들은 3월 26일 (금) 오후 6:00까지 최종본 제출. \n",
    "  1차에 모든 과제를 완성한 학생들도 1차와 2차에 모두 제출해야 함.\n"
   ]
  },
  {
   "cell_type": "markdown",
   "metadata": {
    "scrolled": true
   },
   "source": [
    "\n",
    "### 예제 1.\n",
    "\n",
    "student_records.csv 파일은 2031년도 파이썬고급프로그래밍 수업을 듣는 **가상의** 학생들의 이름, 학번, 소속, 그리고 5 번의 시험 점수를 dictionary 형식으로 기록한 것이다. \n",
    "\n",
    "(학생들의 이름과 학번은 현재 파이썬프로그래밍기초 수업을 듣는 학생들의 이름을 임의로 조작하여 만든 가상의 이름과 학번입니다.)\n",
    "\n",
    "아래 셀의 프로그램은 csv 파일을 Dictionary로 읽는 것이다.\n",
    "\n",
    "아래 프로그램을 실행하여 보라."
   ]
  },
  {
   "cell_type": "code",
   "execution_count": 1,
   "metadata": {},
   "outputs": [
    {
     "name": "stdout",
     "output_type": "stream",
     "text": [
      "Column names are 이름, 학번, 소속, 시험1, 시험2, 시험3, 시험4, 시험5\n",
      "{'이름': '서승운', '학번': '20235458', '소속': '콘텐츠IT전공', '시험1': '77', '시험2': '43', '시험3': '93', '시험4': '49', '시험5': '53'}\n",
      "{'이름': '고도범', '학번': '20277426', '소속': '융합소프트웨어학과', '시험1': '67', '시험2': '43', '시험3': '87', '시험4': '52', '시험5': '47'}\n",
      "{'이름': '김명빈', '학번': '20324832', '소속': '컴퓨터공학과', '시험1': '42', '시험2': '75', '시험3': '89', '시험4': '30', '시험5': '58'}\n",
      "{'이름': '이승훈', '학번': '20307405', '소속': '빅데이터전공', '시험1': '46', '시험2': '77', '시험3': '71', '시험4': '56', '시험5': '52'}\n",
      "{'이름': '안동우', '학번': '20327385', '소속': '콘텐츠IT전공', '시험1': '71', '시험2': '83', '시험3': '69', '시험4': '45', '시험5': '89'}\n",
      "{'이름': '서호근', '학번': '20287365', '소속': '콘텐츠IT전공', '시험1': '84', '시험2': '89', '시험3': '50', '시험4': '28', '시험5': '76'}\n",
      "{'이름': '서기제', '학번': '20315494', '소속': '빅데이터전공', '시험1': '47', '시험2': '72', '시험3': '61', '시험4': '32', '시험5': '88'}\n",
      "{'이름': '서승제', '학번': '20277417', '소속': '스마트IoT전공', '시험1': '76', '시험2': '90', '시험3': '91', '시험4': '65', '시험5': '60'}\n",
      "{'이름': '서준수', '학번': '20295450', '소속': '빅데이터전공', '시험1': '100', '시험2': '57', '시험3': '65', '시험4': '59', '시험5': '82'}\n",
      "{'이름': '김경혁', '학번': '20315508', '소속': '빅데이터전공', '시험1': '96', '시험2': '82', '시험3': '57', '시험4': '24', '시험5': '100'}\n",
      "{'이름': '이준민', '학번': '20297333', '소속': '콘텐츠IT전공', '시험1': '48', '시험2': '87', '시험3': '50', '시험4': '44', '시험5': '65'}\n",
      "{'이름': '장도민', '학번': '20287490', '소속': '데이터테크전공', '시험1': '92', '시험2': '67', '시험3': '90', '시험4': '52', '시험5': '57'}\n",
      "{'이름': '이준언', '학번': '20297348', '소속': '스마트IoT전공', '시험1': '54', '시험2': '82', '시험3': '49', '시험4': '24', '시험5': '71'}\n",
      "{'이름': '최재규', '학번': '20287394', '소속': '전자공학과', '시험1': '63', '시험2': '79', '시험3': '71', '시험4': '40', '시험5': '100'}\n",
      "{'이름': '김웅빈', '학번': '20304876', '소속': '빅데이터전공', '시험1': '65', '시험2': '46', '시험3': '65', '시험4': '56', '시험5': '65'}\n",
      "{'이름': '김제용', '학번': '20287360', '소속': '전자공학과', '시험1': '78', '시험2': '43', '시험3': '41', '시험4': '24', '시험5': '76'}\n",
      "{'이름': '김동우', '학번': '20327511', '소속': '전자공학과', '시험1': '79', '시험2': '64', '시험3': '44', '시험4': '56', '시험5': '56'}\n",
      "{'이름': '신진근', '학번': '20277479', '소속': '전자공학과', '시험1': '70', '시험2': '70', '시험3': '54', '시험4': '28', '시험5': '49'}\n",
      "{'이름': '김휘규', '학번': '20285447', '소속': '임상의학통계전공', '시험1': '100', '시험2': '100', '시험3': '68', '시험4': '42', '시험5': '49'}\n",
      "{'이름': '정종혁', '학번': '20267486', '소속': '빅데이터전공', '시험1': '98', '시험2': '50', '시험3': '57', '시험4': '63', '시험5': '54'}\n",
      "{'이름': '정동기', '학번': '20297460', '소속': '콘텐츠IT전공', '시험1': '87', '시험2': '91', '시험3': '49', '시험4': '33', '시험5': '73'}\n",
      "{'이름': '장준근', '학번': '20267467', '소속': '콘텐츠IT전공', '시험1': '84', '시험2': '78', '시험3': '57', '시험4': '46', '시험5': '91'}\n",
      "{'이름': '신봉형', '학번': '20287415', '소속': '빅데이터전공', '시험1': '61', '시험2': '53', '시험3': '65', '시험4': '55', '시험5': '97'}\n",
      "{'이름': '강영용', '학번': '20285526', '소속': '빅데이터전공', '시험1': '70', '시험2': '96', '시험3': '46', '시험4': '45', '시험5': '90'}\n",
      "{'이름': '서도운', '학번': '20297418', '소속': '데이터테크전공', '시험1': '50', '시험2': '48', '시험3': '36', '시험4': '31', '시험5': '77'}\n",
      "{'이름': '이승수', '학번': '20297411', '소속': '광고홍보학과', '시험1': '48', '시험2': '41', '시험3': '35', '시험4': '64', '시험5': '86'}\n",
      "{'이름': '김기환', '학번': '20267415', '소속': '스마트IoT전공', '시험1': '53', '시험2': '58', '시험3': '67', '시험4': '36', '시험5': '88'}\n",
      "{'이름': '최정규', '학번': '20297325', '소속': '러시아학과', '시험1': '97', '시험2': '69', '시험3': '77', '시험4': '53', '시험5': '92'}\n",
      "{'이름': '정예기', '학번': '20307408', '소속': '빅데이터전공', '시험1': '41', '시험2': '95', '시험3': '63', '시험4': '63', '시험5': '51'}\n",
      "{'이름': '최성현', '학번': '20277513', '소속': '데이터테크전공', '시험1': '75', '시험2': '43', '시험3': '55', '시험4': '58', '시험5': '73'}\n",
      "{'이름': '정재하', '학번': '20317337', '소속': '스마트IoT전공', '시험1': '57', '시험2': '42', '시험3': '84', '시험4': '28', '시험5': '72'}\n",
      "{'이름': '이재근', '학번': '20317601', '소속': '스마트IoT전공', '시험1': '78', '시험2': '72', '시험3': '47', '시험4': '59', '시험5': '57'}\n",
      "{'이름': '이웅훈', '학번': '20317504', '소속': '콘텐츠IT전공', '시험1': '96', '시험2': '96', '시험3': '95', '시험4': '71', '시험5': '56'}\n",
      "{'이름': '조제기', '학번': '20297467', '소속': '데이터테크전공', '시험1': '60', '시험2': '44', '시험3': '77', '시험4': '36', '시험5': '67'}\n",
      "{'이름': '김준혁', '학번': '20277417', '소속': '데이터테크전공', '시험1': '96', '시험2': '48', '시험3': '64', '시험4': '35', '시험5': '87'}\n",
      "{'이름': '김성제', '학번': '20297436', '소속': '콘텐츠IT전공', '시험1': '72', '시험2': '65', '시험3': '56', '시험4': '44', '시험5': '52'}\n",
      "{'이름': '신정형', '학번': '20287459', '소속': '빅데이터전공', '시험1': '68', '시험2': '85', '시험3': '36', '시험4': '43', '시험5': '61'}\n",
      "{'이름': '정고기', '학번': '20287368', '소속': '콘텐츠IT전공', '시험1': '56', '시험2': '57', '시험3': '37', '시험4': '69', '시험5': '89'}\n",
      "{'이름': '김현환', '학번': '20274845', '소속': '금융재무학과', '시험1': '98', '시험2': '72', '시험3': '71', '시험4': '48', '시험5': '84'}\n",
      "{'이름': '서도규', '학번': '20243932', '소속': '콘텐츠IT전공', '시험1': '100', '시험2': '41', '시험3': '75', '시험4': '28', '시험5': '91'}\n",
      "Processed 41 lines.\n"
     ]
    }
   ],
   "source": [
    "import csv\n",
    "\n",
    "with open('student_records.csv', mode='r', encoding='utf-8') as csv_file:\n",
    "    csv_reader = csv.DictReader(csv_file)\n",
    "    line_count = 0\n",
    "    for row in csv_reader:\n",
    "        if line_count == 0:\n",
    "            print(f'Column names are {\", \".join(row)}')\n",
    "            line_count += 1\n",
    "        print(row)\n",
    "        line_count += 1\n",
    "    print(f'Processed {line_count} lines.')"
   ]
  },
  {
   "cell_type": "markdown",
   "metadata": {},
   "source": [
    "#### 문제 1.\n",
    "이 dictionary에서 학번과 모든 시험 점수를 문자열에서 정수형으로 바구고, 시험 점수의 합계와 평균을 다음과 같이 추가하라. 평균은 소숫점 둘째자리에서 반올림해야 한다.\n",
    "\n",
    "예를 들어 첫 학생의 key:value는 다음과 같이 수정된다.\n",
    "```\n",
    "{'이름': '서승운': '학번': 20235458, '소속': '빅데이터전공', '시험1': 77, '시험2': 43, '시험3': 93, '시험4': 49, '시험5': 5, '합계': 343, '평균': 68.6}\n",
    "```\n",
    "\n",
    "수정한 후에 학생의 이름을 키보드로 입력 받은 후에 학생의 이름, 합계, 평균을 consoledp 출력하는 프로그램을 작성하라.\n"
   ]
  },
  {
   "cell_type": "code",
   "execution_count": 35,
   "metadata": {},
   "outputs": [
    {
     "name": "stdout",
     "output_type": "stream",
     "text": [
      "학생의 이름을 입력하시오:서승운\n",
      "이름:서승운, 합계:315, 평균:63.0\n"
     ]
    }
   ],
   "source": [
    "import csv\n",
    "\n",
    "with open('student_records.csv', mode='r', encoding='utf-8') as csv_file:\n",
    "    csv_reader = csv.DictReader(csv_file)\n",
    "    line_count = 0\n",
    "    scan=input(\"학생의 이름을 입력하시오:\")\n",
    "    for row in csv_reader:\n",
    "        row[\"학번\"]= int(row[\"학번\"]);\n",
    "        keys=['시험1','시험2','시험3','시험4','시험5']\n",
    "        for i in keys:\n",
    "            row[i]= int(row[i]);\n",
    "        total=0\n",
    "        for i in keys:\n",
    "            total+=row[i]\n",
    "        row[\"합계\"]=total\n",
    "        row[\"평균\"]=total/5\n",
    "        if row[\"이름\"]==scan:\n",
    "            print(f'이름:{row[\"이름\"]}, 합계:{row[\"합계\"]}, 평균:{row[\"평균\"]}')\n",
    "   \n",
    "   "
   ]
  },
  {
   "cell_type": "markdown",
   "metadata": {},
   "source": [
    "#### 문제 2.\n",
    " 학생들의 소속 학과(전공)의 이름을 원소로 가진 리스트 unique_dept_names를 구하라.\n",
    " 단, 소속 이름은 오름차순으로 정렬하라.\n",
    " 결과는 다음과 같아야 한다.\n",
    " ```\n",
    " ['광고홍보학과',\n",
    " '금융재무학과',\n",
    " '데이터테크전공',\n",
    " '러시아학과',\n",
    " '빅데이터전공',\n",
    " '스마트IoT전공',\n",
    " '융합소프트웨어학과',\n",
    " '임상의학통계전공',\n",
    " '전자공학과',\n",
    " '컴퓨터공학과',\n",
    " '콘텐츠IT전공']\n",
    " ```"
   ]
  },
  {
   "cell_type": "code",
   "execution_count": 45,
   "metadata": {},
   "outputs": [
    {
     "name": "stdout",
     "output_type": "stream",
     "text": [
      "['광고홍보학과', '금융재무학과', '데이터테크전공', '러시아학과', '빅데이터전공', '스마트IoT전공', '융합소프트웨어학과', '임상의학통계전공', '전자공학과', '컴퓨터공학과', '콘텐츠IT전공']\n"
     ]
    }
   ],
   "source": [
    "\n",
    "import csv\n",
    "unique_dept_names=[]\n",
    "with open('student_records.csv', mode='r', encoding='utf-8') as csv_file:\n",
    "    csv_reader = csv.DictReader(csv_file)\n",
    "    for row in csv_reader:\n",
    "        if row[\"소속\"] not in unique_dept_names:\n",
    "            unique_dept_names.append(row[\"소속\"])\n",
    "    unique_dept_names.sort()\n",
    "    print(unique_dept_names)"
   ]
  },
  {
   "cell_type": "markdown",
   "metadata": {},
   "source": [
    "#### 문제 3.\n",
    "소속별 학생 수를 막대 그래프로 그리는 프로그램을 작성하라.\n",
    "\n",
    "```\n",
    "import matplotlib.pyplot as plt\n",
    "plt.rcParams[\"font.family\"] = 'NanumMyeongjo'\n",
    "plt.bar( ...,  ... )\n",
    "plt.xticks( ..., ...)\n",
    "plt.show()\n",
    "```\n",
    "[Matplotlib bar 그래프 참조](https://matplotlib.org/stable/api/_as_gen/matplotlib.pyplot.bar.html)\n",
    "\n",
    "![소속기관별학생수](students_per_dept_v.png)"
   ]
  },
  {
   "cell_type": "code",
   "execution_count": 22,
   "metadata": {},
   "outputs": [
    {
     "data": {
      "image/png": "[encoded data removed]",
      "text/plain": [
       "<Figure size 432x288 with 1 Axes>"
      ]
     },
     "metadata": {
      "needs_background": "light"
     },
     "output_type": "display_data"
    }
   ],
   "source": [
    "import matplotlib.pyplot as plt\n",
    "import csv\n",
    "major=[]\n",
    "value=[]\n",
    "plt.rcParams[\"font.family\"] = 'malgun gothic'\n",
    "with open('student_records.csv', mode='r', encoding='utf-8') as csv_file:\n",
    "    csv_reader = csv.DictReader(csv_file)\n",
    "    for row in csv_reader:\n",
    "        if row[\"소속\"] not in major:\n",
    "            major.append(row[\"소속\"])\n",
    "            value.append(1)\n",
    "        else:\n",
    "            value[major.index(row[\"소속\"])]+=1           \n",
    "plt.bar(major,value)\n",
    "plt.xticks( rotation=90)\n",
    "plt.show()\n",
    "unique_dept_names.clear()"
   ]
  },
  {
   "cell_type": "markdown",
   "metadata": {},
   "source": [
    "#### 문제 4.\n",
    "소속별 학생 수를 막대 그래프로 그리는 프로그램을 작성하라.\n",
    "\n",
    "```\n",
    "import matplotlib.pyplot as plt\n",
    "plt.rcParams[\"font.family\"] = 'NanumMyeongjo'\n",
    "plt.bar( ...,  ... )\n",
    "plt.xticks( ..., ...)\n",
    "plt.show()\n",
    "```\n",
    "\n",
    "<img src='students_per_dept_h.png' />"
   ]
  },
  {
   "cell_type": "code",
   "execution_count": 21,
   "metadata": {},
   "outputs": [
    {
     "data": {
      "image/png": "[encoded data removed]",
      "text/plain": [
       "<Figure size 432x288 with 1 Axes>"
      ]
     },
     "metadata": {
      "needs_background": "light"
     },
     "output_type": "display_data"
    }
   ],
   "source": [
    "import matplotlib.pyplot as plt\n",
    "import csv\n",
    "major=[]\n",
    "value=[]\n",
    "plt.rcParams[\"font.family\"] = 'malgun gothic'\n",
    "with open('student_records.csv', mode='r', encoding='utf-8') as csv_file:\n",
    "    csv_reader = csv.DictReader(csv_file)\n",
    "    for row in csv_reader:\n",
    "        if row[\"소속\"] not in major:\n",
    "            major.append(row[\"소속\"])\n",
    "            value.append(1)\n",
    "        else:\n",
    "            value[major.index(row[\"소속\"])]+=1\n",
    "\n",
    "plt.barh(major,value)\n",
    "plt.show()\n",
    "unique_dept_names.clear()"
   ]
  },
  {
   "cell_type": "markdown",
   "metadata": {},
   "source": [
    "#### 문제 5.\n",
    " 학생들의 입학연도별 학생 수를 구하고 막대 그래프로 그려라."
   ]
  },
  {
   "cell_type": "code",
   "execution_count": 90,
   "metadata": {},
   "outputs": [
    {
     "data": {
      "image/png": "[encoded data removed]",
      "text/plain": [
       "<Figure size 432x288 with 1 Axes>"
      ]
     },
     "metadata": {
      "needs_background": "light"
     },
     "output_type": "display_data"
    }
   ],
   "source": [
    "import matplotlib.pyplot as plt\n",
    "import csv\n",
    "year=[]\n",
    "value=[]\n",
    "plt.rcParams[\"font.family\"] = 'malgun gothic'\n",
    "with open('student_records.csv', mode='r', encoding='utf-8') as csv_file:\n",
    "    csv_reader = csv.DictReader(csv_file)\n",
    "    for row in csv_reader:\n",
    "        row[\"학번\"]= int(row[\"학번\"]);\n",
    "        n=row[\"학번\"]//10000\n",
    "        if n not in year:\n",
    "            year.append(n);\n",
    "            value.append(1);\n",
    "        else:\n",
    "            value[year.index(n)]+=1;\n",
    "plt.bar(year,value)\n",
    "plt.xticks(year)\n",
    "plt.show()\n",
    "unique_dept_names.clear()"
   ]
  },
  {
   "cell_type": "markdown",
   "metadata": {},
   "source": [
    "###### 문제 6.\n",
    "모든 학생이 다섯 번의 시험 성적을 가지고 있다. 시험 시행 차수 별 평균과 표준 편차를 구하고, 막대 그래프로 표시하라.\n",
    "\n",
    "$$\\mu = \\frac{1}{N} \\sum_{n=1}{N} x_n, \\;\\; \\sigma = \\sqrt{\\frac{1}{N} \\sum_{n=1}{N} (x_n-\\mu)^2} $$\n",
    "\n",
    "아래 메쏘드를 사용할 때, yerr argument에 표준 편차를 지정하면 된다.\n",
    "\n",
    "```\n",
    "matplotlob.pyplot.bar()\n",
    "```\n",
    "\n",
    "![시험별평균과표준편차](mean_scores.png)"
   ]
  },
  {
   "cell_type": "code",
   "execution_count": 91,
   "metadata": {},
   "outputs": [
    {
     "data": {
      "image/png": "[encoded data removed]",
      "text/plain": [
       "<Figure size 432x288 with 1 Axes>"
      ]
     },
     "metadata": {
      "needs_background": "light"
     },
     "output_type": "display_data"
    }
   ],
   "source": [
    "avg=0\n",
    "import csv\n",
    "keys=['시험1','시험2','시험3','시험4','시험5']\n",
    "total=[0,0,0,0,0]\n",
    "avg=[0,0,0,0,0]\n",
    "var=[0,0,0,0,0]\n",
    "stdev=[0,0,0,0,0]\n",
    "count=0\n",
    "with open('student_records.csv', mode='r', encoding='utf-8') as csv_file:\n",
    "    csv_reader = csv.DictReader(csv_file)\n",
    "    for row in csv_reader:\n",
    "        for i in keys:\n",
    "            row[i]= int(row[i]);\n",
    "        for i in keys:\n",
    "            total[keys.index(i)]+=row[i]\n",
    "        count += 1\n",
    "for n in total:\n",
    "    avg[total.index(n)]=n/count\n",
    "with open('student_records.csv', mode='r', encoding='utf-8') as csv_file:\n",
    "    csv_reader = csv.DictReader(csv_file)\n",
    "    for row in csv_reader:\n",
    "        keys=['시험1','시험2','시험3','시험4','시험5']\n",
    "        for i in keys:\n",
    "            row[i]= int(row[i]);\n",
    "        for i in keys:\n",
    "            n=keys.index(i)\n",
    "            var[n]+=(row[i]-avg[n])**2/count\n",
    "for n in var:\n",
    "    stdev[var.index(n)]=n**0.5\n",
    "plt.bar( keys,avg, yerr=stdev,capsize=10)\n",
    "plt.show()"
   ]
  },
  {
   "cell_type": "markdown",
   "metadata": {},
   "source": [
    "#### 문제 7\n",
    "\n",
    "다음과 같이 주어지는 두 개의 리스트가 있다.\n",
    "```\n",
    "lst_1 = [1, 10, 9, 5, 3, 3, 2, 1, 7, 8]\n",
    "lst_2 = [1, 2, 11, 15, 6, 3, 3, 6]\n",
    "```\n",
    "\n",
    "set을 이용하여 st_1과 lst_2에 공통적으로 있는 원소들을 원소로 갖는 리스트 lst 를 만들어라.\n",
    "단, 원소의 크기는 오름차순으로 정렬되어야 하고, set() 함수는 사용하지 말아야 한다.\n",
    "답은 다음과 같아야 한다.\n",
    "```\n",
    "lst: [1, 2, 3]\n",
    "```"
   ]
  },
  {
   "cell_type": "code",
   "execution_count": 52,
   "metadata": {},
   "outputs": [
    {
     "name": "stdout",
     "output_type": "stream",
     "text": [
      "[1, 2, 3]\n"
     ]
    }
   ],
   "source": [
    "lst_1 = [1, 10, 9, 5, 3, 3, 2, 1, 7, 8]\n",
    "lst_2 = [1, 2, 11, 15, 6, 3, 3, 6]\n",
    "lst_set={n for n in lst_1 if n in lst_2}\n",
    "lst=sorted(lst_set)\n",
    "print(lst)"
   ]
  },
  {
   "cell_type": "markdown",
   "metadata": {},
   "source": [
    "#### 예제 2. \n",
    "\n",
    "Sympy를 이용하여 다음 적분을 구할 수 있다.\n",
    "\n",
    "$\\displaystyle \\int_0^{2\\pi} (\\sin(x) + 1) \\; dx = 2\\pi$"
   ]
  },
  {
   "cell_type": "code",
   "execution_count": 96,
   "metadata": {},
   "outputs": [
    {
     "data": {
      "text/latex": [
       "$\\displaystyle 2 \\pi$"
      ],
      "text/plain": [
       "2*pi"
      ]
     },
     "metadata": {},
     "output_type": "display_data"
    },
    {
     "data": {
      "text/latex": [
       "$\\displaystyle x - \\cos{\\left(x \\right)}$"
      ],
      "text/plain": [
       "x - cos(x)"
      ]
     },
     "metadata": {},
     "output_type": "display_data"
    }
   ],
   "source": [
    "import sympy as sym\n",
    "import IPython.display as disp\n",
    "x = sym.Symbol('x')\n",
    "f = sym.sin(x) + 1\n",
    "area = sym.integrate(f, (x, 0, sym.pi * 2))\n",
    "disp.display(area)\n",
    "disp.display( sym.integrate(f, x) )"
   ]
  },
  {
   "cell_type": "markdown",
   "metadata": {},
   "source": [
    "$[a, b]$에서 적분가능한 함수 $f(x)$의 적분 근사값은 다음과 같이 구할 수 있다.\n",
    "\n",
    "$$\\displaystyle \\int_a^b f(x) \\; dx \\approx  \\sum_{k=0}^{n-1} f(x_k) \\Delta,$$\n",
    "여기에서 $\\Delta = \\frac{b-a}{n}$ and $x_k = a + \\Delta k$."
   ]
  },
  {
   "cell_type": "code",
   "execution_count": null,
   "metadata": {},
   "outputs": [],
   "source": [
    "n = 100\n",
    "\n",
    "delta = 2*math.pi / n\n",
    "total = 0\n",
    "\n",
    "for k in range(n):\n",
    "     total += math.sin(delta * k) + 1\n",
    "integral = total * delta\n",
    "print(integral)"
   ]
  },
  {
   "cell_type": "markdown",
   "metadata": {},
   "source": [
    "#### User-defined function"
   ]
  },
  {
   "cell_type": "code",
   "execution_count": null,
   "metadata": {},
   "outputs": [],
   "source": [
    "def f(x):\n",
    "    return math.sin(x) + 1\n"
   ]
  },
  {
   "cell_type": "code",
   "execution_count": null,
   "metadata": {},
   "outputs": [],
   "source": [
    "total = 0\n",
    "for k in range(n):\n",
    "     total += f(delta * k)\n",
    "integral = total * delta\n",
    "print(integral)"
   ]
  },
  {
   "cell_type": "code",
   "execution_count": null,
   "metadata": {},
   "outputs": [],
   "source": [
    "f = lambda x: math.sin(x) + 1\n",
    "total = 0\n",
    "for k in range(n):\n",
    "     total += f(delta * k)\n",
    "integral = total * delta\n",
    "print(integral)\n"
   ]
  },
  {
   "cell_type": "markdown",
   "metadata": {},
   "source": [
    "#### 문제 8.\n",
    "$[0, 3]$에서 다음과 같이 정의되는 $f(x)$가 있다.\n",
    "\n",
    "$f(x) = \\begin{cases}\n",
    "x & 0 \\le x < 2 \\\\\n",
    "-2x + 6 & 2 \\le x \\le 3\n",
    "\\end{cases}\n",
    "$\n",
    "\n",
    "$\\displaystyle \\int_0^3 f(x) \\; dx$를 구하라."
   ]
  },
  {
   "cell_type": "code",
   "execution_count": 98,
   "metadata": {},
   "outputs": [
    {
     "data": {
      "text/latex": [
       "$\\displaystyle 3$"
      ],
      "text/plain": [
       "3"
      ]
     },
     "metadata": {},
     "output_type": "display_data"
    },
    {
     "data": {
      "text/latex": [
       "$\\displaystyle \\frac{x^{2}}{2}$"
      ],
      "text/plain": [
       "x**2/2"
      ]
     },
     "metadata": {},
     "output_type": "display_data"
    },
    {
     "data": {
      "text/latex": [
       "$\\displaystyle - x^{2} + 6 x$"
      ],
      "text/plain": [
       "-x**2 + 6*x"
      ]
     },
     "metadata": {},
     "output_type": "display_data"
    }
   ],
   "source": [
    "import sympy as sym\n",
    "import IPython.display as disp\n",
    "x = sym.Symbol('x')\n",
    "f1 = x \n",
    "f2 = -x*2+6\n",
    "area1 = sym.integrate(f1 , (x,0,2))\n",
    "area2 = sym.integrate(f2 , (x,2,3))\n",
    "disp.display(area1+area2)\n",
    "disp.display( sym.integrate(f1, x) )\n",
    "disp.display( sym.integrate(f2, x) )"
   ]
  },
  {
   "cell_type": "code",
   "execution_count": null,
   "metadata": {},
   "outputs": [],
   "source": []
  }
 ],
 "metadata": {
  "kernelspec": {
   "display_name": "Python 3",
   "language": "python",
   "name": "python3"
  },
  "language_info": {
   "codemirror_mode": {
    "name": "ipython",
    "version": 3
   },
   "file_extension": ".py",
   "mimetype": "text/x-python",
   "name": "python",
   "nbconvert_exporter": "python",
   "pygments_lexer": "ipython3",
   "version": "3.8.5"
  },
  "latex_envs": {
   "LaTeX_envs_menu_present": true,
   "autoclose": false,
   "autocomplete": true,
   "bibliofile": "biblio.bib",
   "cite_by": "apalike",
   "current_citInitial": 1,
   "eqLabelWithNumbers": true,
   "eqNumInitial": 1,
   "hotkeys": {
    "equation": "Ctrl-E",
    "itemize": "Ctrl-I"
   },
   "labels_anchors": false,
   "latex_user_defs": false,
   "report_style_numbering": false,
   "user_envs_cfg": false
  },
  "toc": {
   "base_numbering": 1,
   "nav_menu": {},
   "number_sections": false,
   "sideBar": true,
   "skip_h1_title": false,
   "title_cell": "Table of Contents",
   "title_sidebar": "Contents",
   "toc_cell": false,
   "toc_position": {
    "height": "calc(100% - 180px)",
    "left": "10px",
    "top": "150px",
    "width": "270.5px"
   },
   "toc_section_display": true,
   "toc_window_display": false
  }
 },
 "nbformat": 4,
 "nbformat_minor": 2
}
