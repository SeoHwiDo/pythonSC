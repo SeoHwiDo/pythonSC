{
 "cells": [
  {
   "cell_type": "markdown",
   "metadata": {},
   "source": [
    "<h1 align='center'> 파이썬과학프로그래밍기초 실습 2</h1>\n",
    "\n",
    "<p style=\"text-align: right\"> 2021.3.17</p>"
   ]
  },
  {
   "cell_type": "markdown",
   "metadata": {},
   "source": [
    "<div class=\"alert alert-block alert-info\">\n",
    "    \n",
    "- 파일 이름에서 00000000을 자신의 학번으로, name을 자신의 이름으로 수정하세요.\n",
    "\n",
    "- 다음 줄에 자신의 이름, 학번, 학과(전공)을 적으세요.\n",
    "\n",
    "* 이름:   &nbsp;&nbsp;          학번:    &nbsp;&nbsp;         학과(전공):\n",
    "    \n",
    "</div>\n",
    "\n",
    "- Jupyter notebook에 대한 설명은 [The Jupyter Notebook](https://jupyter-notebook.readthedocs.io/en/stable/)을  참고하라\n",
    "\n",
    "- Markdown은 [Markdown Guide](https://www.markdownguide.org/)를 참고하라.\n",
    "- [Markdown Cheat Sheet](https://www.markdownguide.org/cheat-sheet/)\n",
    "\n",
    "* 1차 제출: 오후 3:20까지 실습 시간에 마무리한 것을 제출\n",
    "* 2차 마감: 1차 제출시 완성하지 못한 학생들은 3월 19일 (금) 오후 6:00까지 최종본 제출\n"
   ]
  },
  {
   "cell_type": "markdown",
   "metadata": {},
   "source": [
    "## Markdown에서 LaTeX 수식 관련\n",
    "\n",
    "#### 예제 1. 아래 문장을 새로운 셀에 그대로 적어 보라.\n",
    "\n",
    "행렬은 수 또는 다항식들을 직사각형 형태로 배열한 것이다.\n",
    "\n",
    "$$ A = \\begin{bmatrix}\n",
    "            3 & 5 & 7\\\\\n",
    "            1 & 3 & 4\\\\\n",
    "\\end{bmatrix}\n",
    "\\begin{bmatrix} 1 & 2 \\\\ 2 & 3 \\\\ 1 & -1\\end{bmatrix}\n",
    "= \\begin{bmatrix} \n",
    "(3)(1) + (5)(2) + (7)(1) &  (3)(2) + (5)(3) + (7)(-1) \\\\\n",
    "(1)(1) + (3)(2) + (4)(1) &  (1)(2) + (3)(3) + (4)(-1)\n",
    "\\end{bmatrix}\n",
    "= \\begin{bmatrix} \n",
    "20 &  14 \\\\\n",
    "12 &  7\n",
    "\\end{bmatrix}\n",
    "$$"
   ]
  },
  {
   "cell_type": "markdown",
   "metadata": {},
   "source": []
  },
  {
   "cell_type": "markdown",
   "metadata": {},
   "source": [
    "$$ A = \\begin{bmatrix}\n",
    "            3 & 5 & 7\\\\\n",
    "            1 & 3 & 4\\\\\n",
    "\\end{bmatrix}\n",
    "\\begin{bmatrix} 1 & 2 \\\\ 2 & 3 \\\\ 1 & -1\\end{bmatrix}\n",
    "= \\begin{bmatrix} \n",
    "(3)(1) + (5)(2) + (7)(1) &  (3)(2) + (5)(3) + (7)(-1) \\\\\n",
    "(1)(1) + (3)(2) + (4)(1) &  (1)(2) + (3)(3) + (4)(-1)\n",
    "\\end{bmatrix}\n",
    "= \\begin{bmatrix} \n",
    "20 &  14 \\\\\n",
    "12 &  7\n",
    "\\end{bmatrix}\n",
    "$$"
   ]
  },
  {
   "cell_type": "markdown",
   "metadata": {},
   "source": [
    "#### 예제 2. while loop의 brake와 continue\n",
    "\n",
    "다음 예제 프로그램을 실행하라"
   ]
  },
  {
   "cell_type": "code",
   "execution_count": 1,
   "metadata": {},
   "outputs": [
    {
     "name": "stdout",
     "output_type": "stream",
     "text": [
      "1\n",
      "2\n",
      "3\n",
      "4\n"
     ]
    }
   ],
   "source": [
    "n=1\n",
    "while (n<7):\n",
    "    if (n%5==0):\n",
    "        break\n",
    "    print(n)\n",
    "    n = n+1"
   ]
  },
  {
   "cell_type": "code",
   "execution_count": 2,
   "metadata": {},
   "outputs": [
    {
     "name": "stdout",
     "output_type": "stream",
     "text": [
      "1\n",
      "2\n",
      "3\n",
      "5\n",
      "6\n"
     ]
    }
   ],
   "source": [
    "n=1\n",
    "while (n<7):\n",
    "    if (n%4==0):\n",
    "        n = n + 1\n",
    "        continue\n",
    "    print(n)\n",
    "    n = n+1"
   ]
  },
  {
   "cell_type": "markdown",
   "metadata": {},
   "source": [
    "#### 문제 1. 예제 2에서 break와 continue의 기능을 설명하라."
   ]
  },
  {
   "cell_type": "markdown",
   "metadata": {},
   "source": [
    "**답**:break=>반복문을 멈추고 빠져나감\n",
    "        continue=>continue 아래의 코드를 실행하지 않고 다음 순서로 넘김"
   ]
  },
  {
   "cell_type": "markdown",
   "metadata": {},
   "source": [
    "#### 문제 2. 예제 2의 프로그램을 for loop을 이용해서 다시 작성하라."
   ]
  },
  {
   "cell_type": "code",
   "execution_count": 3,
   "metadata": {},
   "outputs": [
    {
     "name": "stdout",
     "output_type": "stream",
     "text": [
      "1\n",
      "2\n",
      "3\n",
      "5\n",
      "6\n"
     ]
    }
   ],
   "source": [
    "for i in range(1,7):\n",
    "    if (i%4==0):\n",
    "        continue\n",
    "    print(i)"
   ]
  },
  {
   "cell_type": "markdown",
   "metadata": {},
   "source": [
    "#### 예제 3. 다음은 리스트 안의 수를 모두 더하는 프로그램이다. 이를 실행해 보자."
   ]
  },
  {
   "cell_type": "code",
   "execution_count": 4,
   "metadata": {},
   "outputs": [
    {
     "name": "stdout",
     "output_type": "stream",
     "text": [
      "리스트의 합은 23이다.\n"
     ]
    }
   ],
   "source": [
    "numbers = [1, 5, 3, 6, 8]\n",
    "total = 0\n",
    "for num in numbers:\n",
    "    total += num\n",
    "print(f\"리스트의 합은 {total}이다.\")"
   ]
  },
  {
   "cell_type": "markdown",
   "metadata": {},
   "source": [
    "#### 문제 3. 예제 3의 프로그램을 while loop을 이용해서 다시 작성하라."
   ]
  },
  {
   "cell_type": "code",
   "execution_count": 6,
   "metadata": {},
   "outputs": [
    {
     "name": "stdout",
     "output_type": "stream",
     "text": [
      "리스트의 합은 23이다.\n"
     ]
    }
   ],
   "source": [
    "numbers = [1, 5, 3, 6, 8]\n",
    "total = 0\n",
    "num=0\n",
    "while(num<len(numbers)):\n",
    "    total += numbers[num]\n",
    "    num=num+1\n",
    "print(f\"리스트의 합은 {sum(numbers)}이다.\")"
   ]
  },
  {
   "cell_type": "markdown",
   "metadata": {},
   "source": [
    "#### 문제 4. 예제 3의 프로그램을 리스트의 모든 수를 곱한 결과를 출력하도록 수정하라."
   ]
  },
  {
   "cell_type": "code",
   "execution_count": 5,
   "metadata": {},
   "outputs": [
    {
     "name": "stdout",
     "output_type": "stream",
     "text": [
      "리스트의 합은 720이다.\n"
     ]
    }
   ],
   "source": [
    "numbers = [1, 5, 3, 6, 8]\n",
    "total = 1\n",
    "for num in numbers:\n",
    "    total *= num\n",
    "print(f\"리스트의 합은 {total}이다.\")"
   ]
  },
  {
   "cell_type": "markdown",
   "metadata": {},
   "source": [
    "#### 문제 5. 예제 3의 프로그램에서 리스트에 숫자가 아닌 객체가 있는 경우를 생각해 보자. 다음 셀의 프로그램은 실행 중에 오류가 발생한다. numbers라는 리스트의 숫자만 더해서 합을 계산하도록 수정하라."
   ]
  },
  {
   "cell_type": "code",
   "execution_count": 9,
   "metadata": {},
   "outputs": [
    {
     "name": "stdout",
     "output_type": "stream",
     "text": [
      "리스트의 합은 17.7이다.\n"
     ]
    }
   ],
   "source": [
    "numbers = [1, 5.5, 3.2, 'a', 8]\n",
    "total = 0\n",
    "for num in numbers:\n",
    "    if(str(type(num))==\"<class 'int'>\" or str(type(num))==\"<class 'float'>\"):\n",
    "        total += num\n",
    "print(f\"리스트의 합은 {total}이다.\")"
   ]
  },
  {
   "cell_type": "markdown",
   "metadata": {},
   "source": [
    "#### 예제 4. 다음 셀을 실행해 보라."
   ]
  },
  {
   "cell_type": "code",
   "execution_count": 10,
   "metadata": {},
   "outputs": [
    {
     "name": "stdout",
     "output_type": "stream",
     "text": [
      "78, 24, 91, 19, 41, 27, 62, 91, 80, 83, "
     ]
    }
   ],
   "source": [
    "import random\n",
    "for _ in range(10):\n",
    "    print(random.randint(1, 100), end=\", \")"
   ]
  },
  {
   "cell_type": "markdown",
   "metadata": {},
   "source": [
    "#### 문제 6. help(object) 라는 함수는 object에 대한 설명을 출력한다. 아래 셀을 실행해서 random.randint에 대한 설명을 보고 예제 4에 있는 프로그램이 어떤 기능을 하는지 설명하라."
   ]
  },
  {
   "cell_type": "code",
   "execution_count": 11,
   "metadata": {},
   "outputs": [
    {
     "name": "stdout",
     "output_type": "stream",
     "text": [
      "Help on method randint in module random:\n",
      "\n",
      "randint(a, b) method of random.Random instance\n",
      "    Return random integer in range [a, b], including both end points.\n",
      "\n"
     ]
    }
   ],
   "source": [
    "help(random.randint)"
   ]
  },
  {
   "cell_type": "markdown",
   "metadata": {},
   "source": [
    " **답**:1에서 100까지의 범위 안에 있는 정수중 하나를 무작위로 불러와서 출력한 후 쉽표로 분리하는 것을 10번 반복한다"
   ]
  },
  {
   "cell_type": "markdown",
   "metadata": {},
   "source": [
    "#### 문제 7. help(object) 라는 함수는 object에 대한 설명을 출력한다. 아래 셀을 실행해서 random.randint에 대한 설명을 보고 예제 5에 있는 프로그램을 어떤 기능을 하는지 설명하라."
   ]
  },
  {
   "cell_type": "code",
   "execution_count": 12,
   "metadata": {},
   "outputs": [
    {
     "name": "stdout",
     "output_type": "stream",
     "text": [
      "Help on method randint in module random:\n",
      "\n",
      "randint(a, b) method of random.Random instance\n",
      "    Return random integer in range [a, b], including both end points.\n",
      "\n"
     ]
    }
   ],
   "source": [
    "help(random.randint)"
   ]
  },
  {
   "cell_type": "markdown",
   "metadata": {},
   "source": [
    "**답**:"
   ]
  },
  {
   "cell_type": "markdown",
   "metadata": {},
   "source": [
    "#### 문제 8. 다음 프로그램이 무엇을 하는 프로그램인지 설명하라."
   ]
  },
  {
   "cell_type": "code",
   "execution_count": 17,
   "metadata": {
    "scrolled": true
   },
   "outputs": [
    {
     "name": "stdout",
     "output_type": "stream",
     "text": [
      "1과 80 사이의 정수를 입력하시오: 45\n",
      "45는 리스트에 포함되어 있지 않다.\n",
      "[1, 2, 2, 4, 4, 6, 8, 9, 14, 15, 15, 18, 19, 25, 25, 26, 28, 29, 29, 32, 36, 39, 39, 41, 42, 44, 44, 49, 50, 53, 54, 55, 64, 65, 65, 65, 69, 69, 72, 75]\n"
     ]
    }
   ],
   "source": [
    "numbers = []\n",
    "for _ in range(40):\n",
    "    numbers.append(random.randint(1, 80))\n",
    "    \n",
    "in_num = int(input(\"1과 80 사이의 정수를 입력하시오: \"))\n",
    "\n",
    "found = False\n",
    "for num in numbers:\n",
    "    if num == in_num:\n",
    "        found = True\n",
    "        break\n",
    "\n",
    "if found:\n",
    "    print(f\"{in_num}는 리스트에 포함되어 있다.\")\n",
    "else:\n",
    "    print(f\"{in_num}는 리스트에 포함되어 있지 않다.\")\n",
    "numbers.sort() \n",
    "print(numbers)        "
   ]
  },
  {
   "cell_type": "markdown",
   "metadata": {},
   "source": [
    "numbers라는 배열에 1부터80까지의 범위의 정수를 무작위로 40개 골라 저장한 후 in_num에 입력받은 정수가 numbers배열에 있는지 검사하여 만약 발견될 경우 found변수를 True로 저장하고 검사를 중단하고 리스트에 포함되어 있는지 여부를 알려준다"
   ]
  },
  {
   "cell_type": "markdown",
   "metadata": {},
   "source": [
    "#### 예제 5. 문제 8을 다음과 같이 수정할 수 있다. 이 예제의 for-else 구문에서 else의 블록이 언제 실행되는지 설명하라."
   ]
  },
  {
   "cell_type": "code",
   "execution_count": 18,
   "metadata": {
    "scrolled": false
   },
   "outputs": [
    {
     "name": "stdout",
     "output_type": "stream",
     "text": [
      "1과 80 사이의 정수를 입력하시오: 12\n",
      "12는 리스트에 포함되어 있지 않다.\n",
      "[74, 23, 22, 52, 63, 20, 31, 49, 62, 1, 70, 54, 27, 62, 22, 68, 36, 65, 35, 11, 19, 42, 11, 48, 56, 76, 58, 9, 42, 80, 71, 1, 48, 56, 53, 60, 18, 27, 1, 18]\n"
     ]
    }
   ],
   "source": [
    "numbers = []\n",
    "for _ in range(40):\n",
    "    numbers.append(random.randint(1, 80))\n",
    "\n",
    "in_num = int(input(\"1과 80 사이의 정수를 입력하시오: \"))\n",
    "\n",
    "for num in numbers:\n",
    "    if num == in_num:\n",
    "        print(f\"{in_num}는 리스트에 포함되어 있다.\")\n",
    "        break\n",
    "else:\n",
    "    print(f\"{in_num}는 리스트에 포함되어 있지 않다.\")\n",
    "print(numbers)          "
   ]
  },
  {
   "cell_type": "markdown",
   "metadata": {},
   "source": [
    "####  문제 9. 문제 8의 소스를 in 연산자를 사용해서 for loop을 전혀 사용하지 않는 프로그램으로 수정하라."
   ]
  },
  {
   "cell_type": "code",
   "execution_count": 19,
   "metadata": {
    "scrolled": true
   },
   "outputs": [
    {
     "name": "stdout",
     "output_type": "stream",
     "text": [
      "1과 80 사이의 정수를 입력하시오: 12\n",
      "12는 리스트에 포함되어 있다.\n",
      "[73, 8, 9, 70, 69, 72, 63, 4, 21, 40, 40, 21, 12, 70, 56, 52, 35, 37, 74, 21, 66, 2, 35, 4, 18, 50, 35, 25, 39, 33, 61, 27, 12, 36, 65, 37, 40, 14, 12, 80]\n"
     ]
    }
   ],
   "source": [
    "numbers = []\n",
    "for _ in range(40):\n",
    "    numbers.append(random.randint(1, 80))\n",
    "\n",
    "in_num = int(input(\"1과 80 사이의 정수를 입력하시오: \"))\n",
    "\n",
    "if in_num in numbers:\n",
    "    found = True\n",
    "else:\n",
    "    found = False\n",
    "        \n",
    "\n",
    "if found:\n",
    "    print(f\"{in_num}는 리스트에 포함되어 있다.\")\n",
    "else:\n",
    "    print(f\"{in_num}는 리스트에 포함되어 있지 않다.\")\n",
    "print(numbers)          "
   ]
  },
  {
   "cell_type": "markdown",
   "metadata": {},
   "source": [
    "#### 예제 6. 문제 8에서 다른 부분은 그대로 두고  for loop만 while loop으로 수정한 것이다. 프로그램 구조를 살펴보라."
   ]
  },
  {
   "cell_type": "code",
   "execution_count": 20,
   "metadata": {
    "scrolled": true
   },
   "outputs": [
    {
     "name": "stdout",
     "output_type": "stream",
     "text": [
      "1과 80 사이의 정수를 입력하시오: 12\n",
      "12는 리스트에 포함되어 있지 않다.\n",
      "[42, 48, 24, 66, 72, 59, 66, 2, 70, 26, 73, 25, 34, 79, 78, 11, 51, 67, 65, 34, 3, 18, 77, 65, 3, 39, 36, 49, 77, 72, 6, 62, 18, 34, 40, 34, 57, 11, 54, 67]\n"
     ]
    }
   ],
   "source": [
    "numbers = []\n",
    "for _ in range(40):\n",
    "    numbers.append(random.randint(1, 80))\n",
    "\n",
    "in_num = int(input(\"1과 80 사이의 정수를 입력하시오: \"))\n",
    "\n",
    "found = False\n",
    "n = 0\n",
    "while n < len(numbers):\n",
    "    if numbers[n] == in_num:\n",
    "        found = True\n",
    "        break\n",
    "    n += 1\n",
    "if found:\n",
    "    print(f\"{in_num}는 리스트에 포함되어 있다.\")\n",
    "else:\n",
    "    print(f\"{in_num}는 리스트에 포함되어 있지 않다.\")\n",
    "print(numbers)          "
   ]
  },
  {
   "cell_type": "markdown",
   "metadata": {},
   "source": [
    "#### 문제 10. 예제 6에서 while 부분을 whlle-else 구문을 이용해서 수정하라. 참고로 while-else 구문에서 else의 역할은 for-else 구문에서 else 역할과 같다."
   ]
  },
  {
   "cell_type": "code",
   "execution_count": 20,
   "metadata": {
    "scrolled": true
   },
   "outputs": [
    {
     "name": "stdout",
     "output_type": "stream",
     "text": [
      "1과 80 사이의 정수를 입력하시오: 2\n",
      "2는 리스트에 포함되어 있다.\n",
      "[10, 14, 35, 32, 48, 44, 49, 28, 59, 35, 2, 17, 32, 17, 29, 56, 78, 9, 1, 45, 29, 52, 35, 76, 49, 59, 32, 36, 66, 14, 32, 42, 54, 61, 64, 23, 66, 13, 23, 26]\n"
     ]
    }
   ],
   "source": [
    "numbers = []\n",
    "for _ in range(40):\n",
    "    numbers.append(random.randint(1, 80))\n",
    "\n",
    "in_num = int(input(\"1과 80 사이의 정수를 입력하시오: \"))\n",
    "\n",
    "\n",
    "n = 0\n",
    "while n < len(numbers):\n",
    "    n +=1\n",
    "    if n == in_num:\n",
    "        print(f\"{in_num}는 리스트에 포함되어 있다.\")\n",
    "        break\n",
    "else:\n",
    "    print(f\"{in_num}는 리스트에 포함되어 있지 않다.\")\n",
    "print(numbers)                  "
   ]
  },
  {
   "cell_type": "markdown",
   "metadata": {},
   "source": [
    "#### 문제 11. 키보드로 입력받은 자연수가 소수인지 확인하는 프로그램을 아래 셀에 작성하라. 단, for loop을 사용하라."
   ]
  },
  {
   "cell_type": "code",
   "execution_count": 25,
   "metadata": {},
   "outputs": [
    {
     "name": "stdout",
     "output_type": "stream",
     "text": [
      "2 이상의 자연수를 입력하시오: 2\n",
      "소수입니다\n"
     ]
    }
   ],
   "source": [
    "n = int(input(\"2 이상의 자연수를 입력하시오: \"))\n",
    "assert n > 1\n",
    "for i in range(2, n//2 + 1):\n",
    "    if n%i==0:\n",
    "        print(\"소수가 아닙니다\")\n",
    "        break;\n",
    "else:\n",
    "    print(\"소수입니다\")            \n",
    "            \n"
   ]
  },
  {
   "cell_type": "markdown",
   "metadata": {},
   "source": [
    "#### 문제 12. 30이하의 자연수 중에 모든 소수를 출력하는 프로그램을 아래 셀에 작성하라. 단, 중첩 (nested) for loop을 사용하되, inner loop에서 for else 문을 사용하라."
   ]
  },
  {
   "cell_type": "code",
   "execution_count": 28,
   "metadata": {},
   "outputs": [
    {
     "name": "stdout",
     "output_type": "stream",
     "text": [
      "2 3 5 7 11 13 17 19 23 29 "
     ]
    }
   ],
   "source": [
    "check=True\n",
    "for n in range(2, 31):\n",
    "    for i in range(2, n//2 + 1):\n",
    "        if n%i==0:\n",
    "            break;\n",
    "    else:\n",
    "        print(n, end=\" \")\n"
   ]
  },
  {
   "cell_type": "markdown",
   "metadata": {},
   "source": [
    "#### 예제 7. 다음 프로그램을 실행해 보라."
   ]
  },
  {
   "cell_type": "code",
   "execution_count": null,
   "metadata": {},
   "outputs": [],
   "source": [
    "s = ''\n",
    "for n in range(10):\n",
    "    s += str(n)\n",
    "print(s)"
   ]
  },
  {
   "cell_type": "code",
   "execution_count": null,
   "metadata": {},
   "outputs": [],
   "source": [
    "s = ''\n",
    "for n in range(10):\n",
    "    s = str(n) + s\n",
    "print(s)"
   ]
  },
  {
   "cell_type": "markdown",
   "metadata": {},
   "source": [
    "#### 문제 13. bin() 함수는 10진수 정수를 입력 받아 '0b'와 이진 문자열을 반환한다. 정수를 입력받아 bin()과 동일한 결과를 화면에 출력하는 프로그램을 작성하라. 단, 이 프로그램에서 구한 결과가 bin() 함수의 결과가 같을 때 결과를 출력해야 한다."
   ]
  },
  {
   "cell_type": "code",
   "execution_count": 29,
   "metadata": {},
   "outputs": [
    {
     "data": {
      "text/plain": [
       "('0b11111110', '-0b110110000')"
      ]
     },
     "execution_count": 29,
     "metadata": {},
     "output_type": "execute_result"
    }
   ],
   "source": [
    "bin(254), bin(-432)"
   ]
  },
  {
   "cell_type": "code",
   "execution_count": 21,
   "metadata": {
    "scrolled": true
   },
   "outputs": [
    {
     "name": "stdout",
     "output_type": "stream",
     "text": [
      "십진수 정수를 입력하세요:254\n",
      "0b11111110\n"
     ]
    }
   ],
   "source": [
    "scan=eval(input(\"십진수 정수를 입력하세요:\"))\n",
    "if scan<0:\n",
    "    prefix='-0b'\n",
    "else:\n",
    "    prefix='0b'\n",
    "dec=scan\n",
    "s=\"\"\n",
    "while dec:\n",
    "    dec,r=divmod(dec,2)\n",
    "    s=str(r)+s\n",
    "\n",
    "s=prefix+s\n",
    "\n",
    "if s==bin(scan):\n",
    "    print(s)\n",
    "else:\n",
    "    print(\"프로그램 실패\")\n"
   ]
  },
  {
   "cell_type": "code",
   "execution_count": null,
   "metadata": {},
   "outputs": [],
   "source": []
  }
 ],
 "metadata": {
  "kernelspec": {
   "display_name": "Python 3",
   "language": "python",
   "name": "python3"
  },
  "language_info": {
   "codemirror_mode": {
    "name": "ipython",
    "version": 3
   },
   "file_extension": ".py",
   "mimetype": "text/x-python",
   "name": "python",
   "nbconvert_exporter": "python",
   "pygments_lexer": "ipython3",
   "version": "3.8.3"
  },
  "latex_envs": {
   "LaTeX_envs_menu_present": true,
   "autoclose": false,
   "autocomplete": true,
   "bibliofile": "biblio.bib",
   "cite_by": "apalike",
   "current_citInitial": 1,
   "eqLabelWithNumbers": true,
   "eqNumInitial": 1,
   "hotkeys": {
    "equation": "Ctrl-E",
    "itemize": "Ctrl-I"
   },
   "labels_anchors": false,
   "latex_user_defs": false,
   "report_style_numbering": false,
   "user_envs_cfg": false
  },
  "toc": {
   "base_numbering": 1,
   "nav_menu": {},
   "number_sections": false,
   "sideBar": true,
   "skip_h1_title": false,
   "title_cell": "Table of Contents",
   "title_sidebar": "Contents",
   "toc_cell": false,
   "toc_position": {
    "height": "calc(100% - 180px)",
    "left": "10px",
    "top": "150px",
    "width": "270.5px"
   },
   "toc_section_display": true,
   "toc_window_display": false
  }
 },
 "nbformat": 4,
 "nbformat_minor": 2
}
