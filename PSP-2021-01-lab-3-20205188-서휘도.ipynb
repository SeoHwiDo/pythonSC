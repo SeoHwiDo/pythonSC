{
 "cells": [
  {
   "cell_type": "markdown",
   "metadata": {},
   "source": [
    "<h1 align='center'> 파이썬과학프로그래밍기초 실습 3</h1>\n",
    "\n",
    "<p style=\"text-align: right\"> 2021.3.24</p>"
   ]
  },
  {
   "cell_type": "markdown",
   "metadata": {},
   "source": [
    "<div class=\"alert alert-block alert-info\">\n",
    "    \n",
    "- 파일 이름에서 00000000을 자신의 학번으로, name을 자신의 이름으로 수정하세요.\n",
    "\n",
    "- 다음 줄에 자신의 이름, 학번, 학과(전공)을 적으세요.\n",
    "\n",
    "* 이름:   서휘도&nbsp;&nbsp;          학번:    20205188&nbsp;&nbsp;         학과(전공):콘텐츠IT\n",
    "    \n",
    "</div>\n",
    "\n",
    "- Jupyter notebook에 대한 설명은 [The Jupyter Notebook](https://jupyter-notebook.readthedocs.io/en/stable/)을  참고하라\n",
    "\n",
    "- Markdown은 [Markdown Guide](https://www.markdownguide.org/)를 참고하라.\n",
    "- [Markdown Cheat Sheet](https://www.markdownguide.org/cheat-sheet/)\n",
    "\n",
    "* 1차 제출: 오후 3:20까지 실습 시간에 마무리한 것을 제출\n",
    "* 2차 마감: 1차 제출시 완성하지 못한 학생들은 3월 26일 (금) 오후 6:00까지 최종본 제출. \n",
    "  1차에 모든 과제를 완성한 학생들도 1차와 2차에 모두 제출해야 함.\n"
   ]
  },
  {
   "cell_type": "markdown",
   "metadata": {},
   "source": [
    "#### 문제 1. \n",
    "\n",
    "다음과 같이 주어지는 리스트가 있다.\n",
    "\n",
    "```\n",
    "[30, 46, 32, 5, 47, 14, 46, 35, 0, 3, 17, 16, 3, 50, 27]\n",
    "```\n",
    "\n",
    "이 리스트의 원소 중에서 홀수 정수들의 합을 구하는 프로그램을 작성하라"
   ]
  },
  {
   "cell_type": "code",
   "execution_count": 5,
   "metadata": {},
   "outputs": [
    {
     "name": "stdout",
     "output_type": "stream",
     "text": [
      "137\n"
     ]
    }
   ],
   "source": [
    "x=[30, 46, 32, 5, 47, 14, 46, 35, 0, 3, 17, 16, 3, 50, 27]\n",
    "total=0;\n",
    "for n in x:\n",
    "    if n%2!=0:\n",
    "        total+=n\n",
    "print(total)\n",
    "    "
   ]
  },
  {
   "cell_type": "markdown",
   "metadata": {},
   "source": [
    "#### 문제 2. \n",
    "\n",
    "문제 1에 주어진 리스트에서 인덱스가 3의 배수인 원소들의 곱을 구하는 프로그램을 작성하라"
   ]
  },
  {
   "cell_type": "code",
   "execution_count": 13,
   "metadata": {},
   "outputs": [
    {
     "name": "stdout",
     "output_type": "stream",
     "text": [
      "2070\n"
     ]
    }
   ],
   "source": [
    "x=[30, 46, 32, 5, 47, 14, 46, 35, 0, 3, 17, 16, 3, 50, 27]\n",
    "total=1;\n",
    "for n in range(0,len(x)):\n",
    "    if n%3==0 and n!=0:\n",
    "        total*=x[n]\n",
    "print(total)"
   ]
  },
  {
   "cell_type": "markdown",
   "metadata": {},
   "source": [
    "#### 문제 3. \n",
    "\n",
    "다음과 같이 주어지는 리스트가 있다.\n",
    "\n",
    "```\n",
    "[2, 5, 4, 1, 3, 5, 4, 4, 2, 2, 3, 4, 1, 3, 1, 5, 4, 1, 5, 4, 1, 2, 3, 5, 2]\n",
    "```\n",
    "\n",
    "이 리스트에서 서로 다른 원소 중에서 홀수 정수들의 합을 구하는 프로그램을 작성하라"
   ]
  },
  {
   "cell_type": "code",
   "execution_count": 1,
   "metadata": {},
   "outputs": [
    {
     "name": "stdout",
     "output_type": "stream",
     "text": [
      "9\n"
     ]
    }
   ],
   "source": [
    "x1=[2, 5, 4, 1, 3, 5, 4, 4, 2, 2, 3, 4, 1, 3, 1, 5, 4, 1, 5, 4, 1, 2, 3, 5, 2]\n",
    "x2=[]\n",
    "total=0;\n",
    "for n in x1:\n",
    "    if n not in x2:\n",
    "        x2.append(n)\n",
    "for n in x2:\n",
    "    if n%2!=0:\n",
    "        total+=n\n",
    "print(total)\n"
   ]
  },
  {
   "cell_type": "markdown",
   "metadata": {},
   "source": [
    "#### 문제 4\n",
    "\n",
    "List comprehension을 사용해서 아래 셀의 리스트 x에서 음수값을 가진 원소들을 다음과 같이 모두 부호를 양으로 바꾸어 새로운 리스트 y를 만들고, y를 출력하라.\n",
    "```\n",
    "[1, 2, -2, -1, 0, 0, 2, -1, 3, -3, 3, -2, -2, 1, -2, -1, 1, 3, 2, -1]\n",
    "```\n",
    "가 다음과 같이 출력되어야 함.\n",
    "```\n",
    "[1, 2, 2, 1, 0, 0, 2, 1, 3, 3, 3, 2, 2, 1, 2, 1, 1, 3, 2, 1]\n",
    "```"
   ]
  },
  {
   "cell_type": "code",
   "execution_count": 2,
   "metadata": {},
   "outputs": [
    {
     "name": "stdout",
     "output_type": "stream",
     "text": [
      "[1, 2, 2, 1, 0, 0, 2, 1, 3, 3, 3, 2, 2, 1, 2, 1, 1, 3, 2, 1]\n"
     ]
    }
   ],
   "source": [
    "x=[1, 2, -2, -1, 0, 0, 2, -1, 3, -3, 3, -2, -2, 1, -2, -1, 1, 3, 2, -1]\n",
    "y=[- n if n <0 else n for n in x]\n",
    "print(y)"
   ]
  },
  {
   "cell_type": "markdown",
   "metadata": {},
   "source": [
    "#### 문제 5. \n",
    "\n",
    "다음과 같이 주어지는 리스트가 있다.\n",
    "\n",
    "```\n",
    "[3, 9, 9, 3, 6, 7, 2, 4, 3, 2, 8, 3, 1, 9, 3, 1, 8, 6, 8, 1]\n",
    "```\n",
    "\n",
    "이 리스트의 원소 중에서 5 번째로 큰 수를 출력하는 프로그램을 작성하라. 단, 중복된 수는 하나로 취급해야 한다. 단, 수업시간에 배운 함수나 method는 사용해도 좋지만 set() 함수는 사용하지 말아야 한다.\n",
    "\n"
   ]
  },
  {
   "cell_type": "code",
   "execution_count": 57,
   "metadata": {},
   "outputs": [
    {
     "name": "stdout",
     "output_type": "stream",
     "text": [
      "4\n"
     ]
    }
   ],
   "source": [
    "x1=[3, 9, 9, 3, 6, 7, 2, 4, 3, 2, 8, 3, 1, 9, 3, 1, 8, 6, 8, 1]\n",
    "x2=[]\n",
    "for n in x1:\n",
    "    if n not in x2:\n",
    "        x2.append(n)\n",
    "x2.sort()\n",
    "x2.reverse()\n",
    "print(x2[4])"
   ]
  },
  {
   "cell_type": "markdown",
   "metadata": {},
   "source": [
    "#### 문제 6\n",
    "\n",
    "다음과 같이 주어지는 두 개의 리스트가 있다.\n",
    "```\n",
    "lst_1 = [1, 10, 9, 5, 3, 3, 2, 1, 7, 8]\n",
    "lst_2 = [1, 2, 11, 15, 6, 3, 3, 6]\n",
    "```\n",
    "\n",
    "for loop을 사용하여 lst_1과 lst_2에 공통적으로 있는 원소들을 원소로 갖는 리스트 lst 를 만들어라.\n",
    "단, 원소의 크기는 오름차순으로 정렬되어야 하고, set() 함수는 사용하지 말아야 한다.\n",
    "답은 다음과 같아야 한다.\n",
    "```\n",
    "lst: [1, 2, 3]\n",
    "```"
   ]
  },
  {
   "cell_type": "code",
   "execution_count": 59,
   "metadata": {},
   "outputs": [
    {
     "name": "stdout",
     "output_type": "stream",
     "text": [
      "lst: [1, 2, 3]\n"
     ]
    }
   ],
   "source": [
    "lst_1 = [1, 10, 9, 5, 3, 3, 2, 1, 7, 8]\n",
    "lst_2 = [1, 2, 11, 15, 6, 3, 3, 6]\n",
    "lst=[]\n",
    "for n in lst_1:\n",
    "    if n in lst_2 and n not in lst:\n",
    "        lst.append(n)\n",
    "lst.sort()\n",
    "print(\"lst:\",lst)"
   ]
  },
  {
   "cell_type": "markdown",
   "metadata": {},
   "source": [
    "#### 문제 7과 8 \n",
    "구간 $[0, 20]$에 있는 정수 $n$에 대해서 $x[n]$은 다음과 같이 표현된다.\n",
    "$$\n",
    "x = \\begin{cases}\n",
    "2n & 0 \\le n \\le 10 \\\\\n",
    "40 - 2n & 10 < n \\le 20\n",
    "\\end{cases}\n",
    "$$\n",
    "\n",
    "아래 셀의 프로그램은 $x[n]$의 stem 그래프를 그리는 프로그램이다. "
   ]
  },
  {
   "cell_type": "code",
   "execution_count": 3,
   "metadata": {},
   "outputs": [
    {
     "name": "stderr",
     "output_type": "stream",
     "text": [
      "<ipython-input-3-aa3b626a8322>:3: UserWarning: In Matplotlib 3.3 individual lines on a stem plot will be added as a LineCollection instead of individual lines. This significantly improves the performance of a stem plot. To remove this warning and switch to the new behaviour, set the \"use_line_collection\" keyword argument to True.\n",
      "  plt.stem(list(range(21)), x)\n"
     ]
    },
    {
     "data": {
      "image/png": "[encoded data removed]",
      "text/plain": [
       "<Figure size 432x288 with 1 Axes>"
      ]
     },
     "metadata": {
      "needs_background": "light"
     },
     "output_type": "display_data"
    }
   ],
   "source": [
    "import matplotlib.pyplot as plt\n",
    "x = [0, 2, 4, 6, 8, 10, 12, 14, 16, 18, 20, 18, 16, 14, 12, 10, 8, 6, 4, 2, 0]\n",
    "plt.stem(list(range(21)), x)\n",
    "plt.xticks(range(0, 22, 5))\n",
    "plt.yticks(range(0, 21, 4))\n",
    "plt.xlabel(\"$n$\")\n",
    "plt.ylabel(\"$x[n]$\")\n",
    "plt.show()"
   ]
  },
  {
   "cell_type": "markdown",
   "metadata": {},
   "source": [
    "#### 문제 7.\n",
    "List의 + 연산을 사용하지 말고 for loop와 if-else 문을 사용하여 x를 리스트로 표현하는 아래 프로그램을 완성하라."
   ]
  },
  {
   "cell_type": "code",
   "execution_count": 64,
   "metadata": {},
   "outputs": [
    {
     "name": "stdout",
     "output_type": "stream",
     "text": [
      "[0, 2, 4, 6, 8, 10, 12, 14, 16, 18, 20, 18, 16, 14, 12, 10, 8, 6, 4, 2, 0]\n"
     ]
    }
   ],
   "source": [
    "x = []\n",
    "for n in range(21):\n",
    "    if n<=10:\n",
    "        x.append(n*2)\n",
    "    else:\n",
    "        x.append(40-n*2)\n",
    "print(x)"
   ]
  },
  {
   "cell_type": "markdown",
   "metadata": {},
   "source": [
    "#### 문제 8.\n",
    "문제 7을 list comprehension을 이용하여 작성하라."
   ]
  },
  {
   "cell_type": "code",
   "execution_count": null,
   "metadata": {},
   "outputs": [],
   "source": [
    "x = [2*n if n < 10 else 40 - 2*n for n in range(21)]\n",
    "print(x)"
   ]
  },
  {
   "cell_type": "code",
   "execution_count": 32,
   "metadata": {},
   "outputs": [
    {
     "name": "stdout",
     "output_type": "stream",
     "text": [
      "[0, 2, 4, 6, 8, 10, 12, 14, 16, 18, 20, 18, 16, 14, 12, 10, 8, 6, 4, 2, 0]\n"
     ]
    }
   ],
   "source": [
    "x = [2*n if n < 10 else 40 - 2*n for n in range(21)]\n",
    "print(x)"
   ]
  },
  {
   "cell_type": "code",
   "execution_count": 4,
   "metadata": {
    "scrolled": true
   },
   "outputs": [
    {
     "name": "stderr",
     "output_type": "stream",
     "text": [
      "<ipython-input-4-aa3b626a8322>:3: UserWarning: In Matplotlib 3.3 individual lines on a stem plot will be added as a LineCollection instead of individual lines. This significantly improves the performance of a stem plot. To remove this warning and switch to the new behaviour, set the \"use_line_collection\" keyword argument to True.\n",
      "  plt.stem(list(range(21)), x)\n"
     ]
    },
    {
     "data": {
      "image/png": "[encoded data removed]",
      "text/plain": [
       "<Figure size 432x288 with 1 Axes>"
      ]
     },
     "metadata": {
      "needs_background": "light"
     },
     "output_type": "display_data"
    }
   ],
   "source": [
    "import matplotlib.pyplot as plt\n",
    "x = [0, 2, 4, 6, 8, 10, 12, 14, 16, 18, 20, 18, 16, 14, 12, 10, 8, 6, 4, 2, 0]\n",
    "plt.stem(list(range(21)), x)\n",
    "plt.xticks(range(0, 22, 5))\n",
    "plt.yticks(range(0, 21, 4))\n",
    "plt.xlabel(\"$n$\")\n",
    "plt.ylabel(\"$x[n]$\")\n",
    "plt.show()"
   ]
  },
  {
   "cell_type": "markdown",
   "metadata": {},
   "source": [
    "#### 문제 9와 10\n",
    "구간 $[0, 30]$에 있는 정수 $n$에 대해서 $x[n]$은 다음과 같이 표현된다.\n",
    "$$\n",
    "x = \\begin{cases}\n",
    "2n & 0 \\le n \\le 10 \\\\\n",
    "40 - 2n & 10 < n \\le 20 \\\\\n",
    "2n - 40 & 20 < n \\le 30 \n",
    "\\end{cases}\n",
    "$$\n",
    "\n",
    "아래 셀의 프로그램은 $x[n]$의 stem 그래프를 그리는 프로그램이다. "
   ]
  },
  {
   "cell_type": "code",
   "execution_count": 3,
   "metadata": {},
   "outputs": [
    {
     "data": {
      "image/png": "[encoded data removed]",
      "text/plain": [
       "<Figure size 432x288 with 1 Axes>"
      ]
     },
     "metadata": {
      "needs_background": "light"
     },
     "output_type": "display_data"
    }
   ],
   "source": [
    "import matplotlib.pyplot as plt\n",
    "x = [0, 2, 4, 6, 8, 10, 12, 14, 16, 18, 20]\n",
    "x2 = x + x[-2::-1] + x[1:]\n",
    "plt.stem(list(range(len(x2))), x2)\n",
    "plt.xticks(range(0, len(x2), 5))\n",
    "plt.yticks(range(0, 21, 4))\n",
    "plt.xlabel(\"$n$\")\n",
    "plt.ylabel(\"$x[n]$\")\n",
    "plt.show()"
   ]
  },
  {
   "cell_type": "markdown",
   "metadata": {},
   "source": [
    "#### 문제 9.\n",
    "\n",
    "List의 + 연산을 사용하지 말고 \n",
    "for loop와 if-else 문을 사용하여 x2를 리스트로 표현하는 아래 프로그램을 완성하라."
   ]
  },
  {
   "cell_type": "code",
   "execution_count": 70,
   "metadata": {},
   "outputs": [
    {
     "name": "stdout",
     "output_type": "stream",
     "text": [
      "[0, 2, 4, 6, 8, 10, 12, 14, 16, 18, 20, 18, 16, 14, 12, 10, 8, 6, 4, 2, 0, 2, 4, 6, 8, 10, 12, 14, 16, 18, 20]\n"
     ]
    }
   ],
   "source": [
    "x2 = []\n",
    "for n in range(31):\n",
    "    if n<=10:\n",
    "        x2.append(n*2)\n",
    "    elif n>10 and n<=20:\n",
    "        x2.append(40-n*2)\n",
    "    else:\n",
    "        x2.append(n*2-40)\n",
    "print(x2)"
   ]
  },
  {
   "cell_type": "markdown",
   "metadata": {},
   "source": [
    "#### 문제 10.\n",
    "x2를 list comprehension을 이용하여 작성하라."
   ]
  },
  {
   "cell_type": "code",
   "execution_count": 73,
   "metadata": {},
   "outputs": [
    {
     "name": "stdout",
     "output_type": "stream",
     "text": [
      "[0, 2, 4, 6, 8, 10, 12, 14, 16, 18, 20, 18, 16, 14, 12, 10, 8, 6, 4, 2, 0, 2, 4, 6, 8, 10, 12, 14, 16, 18, 20]\n"
     ]
    }
   ],
   "source": [
    "x2=[n*2 if n<=10 else 40-n*2 if n>10 and n<=20 else n*2-40 for n in range(31)]\n",
    "print(x2)"
   ]
  },
  {
   "cell_type": "markdown",
   "metadata": {},
   "source": [
    "#### 참고:\n",
    "$n$ 차원 열벡터(column vector) $\\mathbf{x} = [x_1  x_2  \\cdots x_n]^T$와 $\\mathbf{y} = [y_1  y_2  \\cdots y_n]^T$ 벡터의 inner product는 다음과 같이 정의된다.\n",
    "\n",
    "$$ <\\mathbf{x}, \\mathbf{y}> = \\mathbf{x}^T \\mathbf{y} \n",
    "= [x_1  x_2  \\cdots x_n] \n",
    "\\begin{bmatrix} y_1 \\\\  y_2 \\\\ \\vdots \\\\y_n\n",
    "\\end{bmatrix}\n",
    "= \\sum_{i=1}^n x_i y_i\n",
    "$$\n",
    "\n",
    "벡터를 list로 표현한다면 다음과 같이 행 벡터와 열벡터의 곱을 구할 수 있다."
   ]
  },
  {
   "cell_type": "code",
   "execution_count": 14,
   "metadata": {},
   "outputs": [
    {
     "name": "stdout",
     "output_type": "stream",
     "text": [
      "30\n"
     ]
    }
   ],
   "source": [
    "x = [1, 2, 3, 4]\n",
    "y = [1, 2, 3, 4]\n",
    "\n",
    "xy = 0\n",
    "for i in range(4):\n",
    "    xy += x[i]*y[i]\n",
    "print(xy)"
   ]
  },
  {
   "cell_type": "code",
   "execution_count": 15,
   "metadata": {},
   "outputs": [
    {
     "name": "stdout",
     "output_type": "stream",
     "text": [
      "30\n"
     ]
    }
   ],
   "source": [
    "x = [1, 2, 3, 4]\n",
    "y = [1, 2, 3, 4]\n",
    "\n",
    "xy = 0\n",
    "for a, b in zip(x, y):\n",
    "    xy += a * b\n",
    "print(xy)"
   ]
  },
  {
   "cell_type": "markdown",
   "metadata": {},
   "source": [
    "#### 문제 11. \n",
    "\n",
    "$2\\times 3$ 행렬 $A$와 $3 \\times 2$ 행렬 $B$가 다음과 같다.\n",
    "$$ A = \\begin{bmatrix}\n",
    "            5 & 0 & 3\\\\\n",
    "            3 & 7 & 9\\\\\n",
    "\\end{bmatrix},\n",
    "$$\n",
    "$$B=\\begin{bmatrix} 3 & 5 \\\\ 2 & 4 \\\\ 7 & 6\\end{bmatrix}.\n",
    "$$\n",
    "$C=AB$는 다음과 같이 계산된다.\n",
    "$$C= \\begin{bmatrix} \n",
    "(5)(3) + (0)(2) + (3)(7) &  (5)(5) + (0)(4) + (3)(6) \\\\\n",
    "(3)(3) + (7)(2) + (9)(7) &  (3)(5) + (7)(4) + (9)(6)\n",
    "\\end{bmatrix}\n",
    "= \\begin{bmatrix} \n",
    "36 &  43 \\\\\n",
    "86 &  97\n",
    "\\end{bmatrix}\n",
    "$$"
   ]
  },
  {
   "cell_type": "code",
   "execution_count": 17,
   "metadata": {
    "scrolled": true
   },
   "outputs": [
    {
     "name": "stdout",
     "output_type": "stream",
     "text": [
      "[[5 0 3]\n",
      " [3 7 9]]\n",
      "[[3 5]\n",
      " [2 4]\n",
      " [7 6]]\n",
      "[[36 43]\n",
      " [86 97]]\n"
     ]
    }
   ],
   "source": [
    "import numpy as np\n",
    "#아래의 seed는 항상 일정한 결과를 얻기 위해서 의도적으로 추가했음.\n",
    "np.random.seed(0)\n",
    "a = np.random.randint(10, size=(2, 3))\n",
    "b = np.random.randint(10, size=(3, 2))\n",
    "c = a @ b\n",
    "print(a)\n",
    "print(b)\n",
    "print(c)"
   ]
  },
  {
   "cell_type": "code",
   "execution_count": 88,
   "metadata": {},
   "outputs": [
    {
     "data": {
      "text/plain": [
       "[[5, 0, 3], [3, 7, 9]]"
      ]
     },
     "execution_count": 88,
     "metadata": {},
     "output_type": "execute_result"
    }
   ],
   "source": [
    "A = [list(a[0]), list(a[1])]\n",
    "A"
   ]
  },
  {
   "cell_type": "code",
   "execution_count": 89,
   "metadata": {},
   "outputs": [
    {
     "data": {
      "text/plain": [
       "[[3, 5], [2, 4]]"
      ]
     },
     "execution_count": 89,
     "metadata": {},
     "output_type": "execute_result"
    }
   ],
   "source": [
    "B = [list(b[0]), list(b[1])]\n",
    "B"
   ]
  },
  {
   "cell_type": "markdown",
   "metadata": {},
   "source": [
    "#### 리스트 A와 B를 이용해서 행렬의 곱 AB를 계산하고 그 결과를 nested list C에 할당하라. (Hint: Nested for loop을 사용할 것)"
   ]
  },
  {
   "cell_type": "code",
   "execution_count": 16,
   "metadata": {},
   "outputs": [
    {
     "name": "stdout",
     "output_type": "stream",
     "text": [
      "[[36, 43], [86, 97]]\n"
     ]
    }
   ],
   "source": [
    "A=[[5,0,3],[3,7,9]]\n",
    "B=[[3,5],[2,4],[7,6]]\n",
    "C = []\n",
    "for n in range(len(A)):  \n",
    "    temp = []          \n",
    "    for m in range(len(B[0])):  \n",
    "        total= 0\n",
    "        for l in range(len(B)): \n",
    "            total += A[n][l]*B[l][m]\n",
    "        temp.append(total)\n",
    "    C.append(temp)       \n",
    "print(C)"
   ]
  },
  {
   "cell_type": "markdown",
   "metadata": {},
   "source": [
    "#### 문제 12.\n",
    "\n",
    "다음과 같은 8-bit minifloat format이 있다고 가정하자.\n",
    "\n",
    "<table style=\"border:1px solid black;\">\n",
    "    <thead>\n",
    "        <tr>\n",
    "            <th style=\"border:1px solid black;\">b7</th>\n",
    "            <th style=\"border:1px solid black;\">b6</th>\n",
    "            <th style=\"border:1px solid black;\">b5</th>\n",
    "            <th style=\"border:1px solid black;\">b4</th>\n",
    "            <th style=\"border:1px solid black;\">b3</th>\n",
    "            <th style=\"border:1px solid black;\">b2</th>\n",
    "            <th style=\"border:1px solid black;\">b1</th>\n",
    "            <th style=\"border:1px solid black;\">b0</th>\n",
    "        </tr>\n",
    "        <tr>\n",
    "            <td style=\"border:1px solid black;\">sign (1 bit)</td>\n",
    "            <td colspan=4 style=\"border:1px solid black;\">q = e + 7 (4 btis)</td>\n",
    "            <td colspan=3 style=\"border:1px solid black;\">mantissa (3 btis))</td>\n",
    "        </tr>\n",
    "    </thead>\n",
    "    \n",
    "</table>\n",
    "\n",
    "위 형식으로 표현된 8 bits 이진수를 10 진수 실수로 변환하면 다음과 같다.\n",
    "\n",
    "$$x=(-1)^s×(1.b_2 b_1 b_0)_2×2^e=(-1)^s×(1.b_2 b_1 b_0)_2×2^{q-7}$$\n",
    "\n",
    "여기에서, 다음 4 가지 이진수는 다음과 같은 의미를 갖는다고 정의하자.\n",
    "- 0 0000 000 = 0\n",
    "- 1 0000 000 = -0\n",
    "- 0 1111 000 = +infinity\n",
    "- 1 1111 000 = 1infinity\n",
    "\n",
    "위의 4 가지 이진수 이외의 이진수들은 다음과 같이 변환된다.\n",
    "\n",
    "예를 들면, 0 1011 101은 다음과 같다.\n",
    "$$0 1011 101 = (-1)^0×(1.101)_2×2^{11-7}=(1.101)_2×2^4=(11010)_2=26$$\n",
    "\n",
    "다음 8 비트 이진수를 위의 예와 같이 10 진수 실수로 변환하는 과정과 결과를 아래에 적어라.\n",
    "\n",
    "$$1) 0 1001 111=(-1)^0x(1.111)_2x2^{9-7}=(-1)^0x(1.111)_2x2^2=(111.1)_2=7.5$$\n",
    "\n",
    "$$2) 0 0011 011=(-1)^0x(1.011)_2x2^{3-7}=(-1)^0x(1.011)_2x2^(-4)=(0.0001011)_2=11/64$$\n",
    "\n",
    "$$3) 1 0110 001=(-1)^1x(1.001)_2x2^{6-7}=(-1)^1x(1.001)_2x2^(-1)=-(0.1001)_2=-(9/16)$$\n",
    "\n",
    "$$4) 1 1010 101=(-1)^1x(1.101)_2x2^{10-7}=(-1)^1x(1.101)_2x2^3=-(1101)_2=-13$$\n"
   ]
  },
  {
   "cell_type": "markdown",
   "metadata": {},
   "source": [
    "#### 문제 13. \n",
    "\n",
    "n-비트 unsigned binary number string을 키보드로 입력하면 그것을 정수로 변환하여 출력하는 프로그램을 작성하라.\n",
    "\n",
    "예: 키보드로 11011 또는 0011011을 입력하면 27이 출력되어야 한다.\n",
    "\n"
   ]
  },
  {
   "cell_type": "code",
   "execution_count": 46,
   "metadata": {},
   "outputs": [
    {
     "name": "stdout",
     "output_type": "stream",
     "text": [
      "8비트 binary string을 입력하시오: 11011\n",
      "27\n"
     ]
    }
   ],
   "source": [
    "bin_string = input(\"8비트 binary string을 입력하시오: \")\n",
    "assert bin_string.count('0') + bin_string.count('1') == len(bin_string)\n",
    "output=0\n",
    "bin_int=int(bin_string)\n",
    "for n in range(0,len(bin_string)+1):\n",
    "    output+=(bin_int%10)*2**n\n",
    "    bin_int//=10\n",
    "print(output)"
   ]
  },
  {
   "cell_type": "markdown",
   "metadata": {},
   "source": [
    "#### 문제 14. \n",
    "문제 12에 정의된 minifloat format으로 표현된 8 개의 binary string을 키보드로 입력하면 그것을 실수로 변환하여 출력하는 프로그램을 작성하라."
   ]
  },
  {
   "cell_type": "code",
   "execution_count": 5,
   "metadata": {
    "scrolled": true
   },
   "outputs": [
    {
     "name": "stdout",
     "output_type": "stream",
     "text": [
      "8비트 binary string을 입력하시오: 01001111\n",
      "7.099999999999994\n"
     ]
    }
   ],
   "source": [
    "minifloat = input(\"8비트 binary string을 입력하시오: \")\n",
    "assert minifloat.count('0') + minifloat.count('1') == 8 and len(minifloat)==8\n",
    "bin_int=int(minifloat)\n",
    "q=0\n",
    "n_1=0\n",
    "for n in range(4,0,-1):\n",
    "    q+=(int(minifloat[n]))*2**n_1\n",
    "    n_1+=1\n",
    "e=q-7\n",
    "bin=0\n",
    "n_1=0\n",
    "for n in range(7,4,-1):\n",
    "    bin+=10**n_1*int(minifloat[n])\n",
    "    n_1+=1\n",
    "\n",
    "x=float(((-1)**int(minifloat[0]))*float(bin*0.001+1)*10**e)\n",
    "n=0\n",
    "output=0\n",
    "while x:\n",
    "    output+=(x%10)*2**n\n",
    "    x//=10\n",
    "    n+=1\n",
    "print(output)"
   ]
  },
  {
   "cell_type": "code",
   "execution_count": 33,
   "metadata": {},
   "outputs": [
    {
     "name": "stdout",
     "output_type": "stream",
     "text": [
      "8비트 binary string을 입력하시오: 01111111\n",
      "0\n",
      "1\n",
      "2\n",
      "3\n",
      "4\n",
      "1/1111/11100000/15/8/224\n"
     ]
    }
   ],
   "source": [
    "def binToDec(bin):\n",
    "    str_bin=str(bin)\n",
    "    int_bin,flt_bin='',''\n",
    "    int_dec,flt_dec,j=0,0,0\n",
    "    flag=True\n",
    "    for i in str_bin:\n",
    "        if '.'==i:\n",
    "            flag=False\n",
    "            continue\n",
    "        if flag:\n",
    "            int_bin+=i\n",
    "        else:\n",
    "            flt_bin+=i\n",
    "    if int_bin:\n",
    "        for i in range(len(int_bin)-1,-1,-1):\n",
    "            int_dec+=int(int_bin[j])*2**i\n",
    "            j+=1\n",
    "    if flt_bin:\n",
    "        for i in range(1,len(flt_bin)+1):\n",
    "            flt_dec+=int(flt_bin[i-1])*2**-i\n",
    "    return int_dec+flt_dec\n",
    "    \n",
    "minifloat = input(\"8비트 binary string을 입력하시오: \")\n",
    "assert minifloat.count('0') + minifloat.count('1') == 8 and len(minifloat)==8\n",
    "s_bit=(-1)**int(minifloat[0])\n",
    "b6_b3=minifloat[1:5]\n",
    "q=binToDec(b6_b3)\n",
    "e=q-7\n",
    "b2_b0=minifloat[5:]\n",
    "zero=''\n",
    "if e<0:\n",
    "    for i in range(-e-1):\n",
    "        zero+='0'\n",
    "    b2_b0='0.'+zero+'1'+b2_b0\n",
    "elif e==0:\n",
    "    b2_b0='1.'+b2_b0\n",
    "elif e==1:\n",
    "    b2_b0='1'+b2_b0[0]+'.'+b2_b0[1:]\n",
    "elif e==2:\n",
    "    b2_b0='1'+b2_b0[0:2]+'.'+b2_b0[2]\n",
    "else:\n",
    "    for i in range(e-3):\n",
    "        b2_b0+='0'\n",
    "        print(i)\n",
    "total=s_bit*binToDec(b2_b0)\n",
    "\n",
    "print(f\"{s_bit}/{b6_b3}/{b2_b0}/{q}/{e}/{total}\")\n"
   ]
  },
  {
   "cell_type": "code",
   "execution_count": 30,
   "metadata": {},
   "outputs": [
    {
     "data": {
      "text/plain": [
       "0.0859375"
      ]
     },
     "execution_count": 30,
     "metadata": {},
     "output_type": "execute_result"
    }
   ],
   "source": [
    "1*2**-7+1*2**-6+1*2**-4"
   ]
  },
  {
   "cell_type": "code",
   "execution_count": null,
   "metadata": {},
   "outputs": [],
   "source": []
  }
 ],
 "metadata": {
  "kernelspec": {
   "display_name": "Python 3",
   "language": "python",
   "name": "python3"
  },
  "language_info": {
   "codemirror_mode": {
    "name": "ipython",
    "version": 3
   },
   "file_extension": ".py",
   "mimetype": "text/x-python",
   "name": "python",
   "nbconvert_exporter": "python",
   "pygments_lexer": "ipython3",
   "version": "3.8.3"
  },
  "latex_envs": {
   "LaTeX_envs_menu_present": true,
   "autoclose": false,
   "autocomplete": true,
   "bibliofile": "biblio.bib",
   "cite_by": "apalike",
   "current_citInitial": 1,
   "eqLabelWithNumbers": true,
   "eqNumInitial": 1,
   "hotkeys": {
    "equation": "Ctrl-E",
    "itemize": "Ctrl-I"
   },
   "labels_anchors": false,
   "latex_user_defs": false,
   "report_style_numbering": false,
   "user_envs_cfg": false
  },
  "toc": {
   "base_numbering": 1,
   "nav_menu": {},
   "number_sections": false,
   "sideBar": true,
   "skip_h1_title": false,
   "title_cell": "Table of Contents",
   "title_sidebar": "Contents",
   "toc_cell": false,
   "toc_position": {
    "height": "calc(100% - 180px)",
    "left": "10px",
    "top": "150px",
    "width": "270.5px"
   },
   "toc_section_display": true,
   "toc_window_display": false
  }
 },
 "nbformat": 4,
 "nbformat_minor": 2
}
